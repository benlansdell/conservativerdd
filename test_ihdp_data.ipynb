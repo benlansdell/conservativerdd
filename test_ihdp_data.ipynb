{
 "cells": [
  {
   "cell_type": "markdown",
   "metadata": {},
   "source": [
    "### Test IHDP data"
   ]
  },
  {
   "cell_type": "code",
   "execution_count": 1,
   "metadata": {},
   "outputs": [
    {
     "name": "stdout",
     "output_type": "stream",
     "text": [
      "Populating the interactive namespace from numpy and matplotlib\n"
     ]
    },
    {
     "name": "stderr",
     "output_type": "stream",
     "text": [
      "/usr/local/lib/python2.7/dist-packages/pandas/core/computation/__init__.py:18: UserWarning: The installed version of numexpr 2.4.3 is not supported in pandas and will be not be used\n",
      "The minimum supported version is 2.4.6\n",
      "\n",
      "  ver=ver, min_ver=_MIN_NUMEXPR_VERSION), UserWarning)\n",
      "/home/lansdell/.local/lib/python2.7/site-packages/matplotlib/__init__.py:913: UserWarning: axes.color_cycle is deprecated and replaced with axes.prop_cycle; please use the latter.\n",
      "  warnings.warn(self.msg_depr % (key, alt_key))\n"
     ]
    }
   ],
   "source": [
    "%pylab inline\n",
    "pylab.rcParams['figure.figsize'] = (6, 6)\n",
    "\n",
    "from lib.bandits import LinUCB, ThresholdBandit, GreedyBandit, ThresholdConsBandit\n",
    "from lib.generator import IHDPGenerator, IHDPParams\n",
    "import numpy as np \n",
    "import pandas\n",
    "import matplotlib.pyplot as plt\n",
    "from sklearn.utils import shuffle\n",
    "import seaborn as sns\n",
    "sns.set_style('ticks')\n",
    "\n",
    "def smooth(y, box_pts=100):\n",
    "    box = np.ones(box_pts)/box_pts\n",
    "    if len(y.shape) == 2:\n",
    "        y_smooth = y.copy()\n",
    "        for i in range(y.shape[0]):\n",
    "            y_smooth[i,:] = np.convolve(y[i,:], box, mode='same')\n",
    "    else:\n",
    "        y_smooth = np.convolve(y, box, mode='same')\n",
    "    return y_smooth"
   ]
  },
  {
   "cell_type": "code",
   "execution_count": 2,
   "metadata": {
    "collapsed": true
   },
   "outputs": [],
   "source": [
    "intercept = True #constant term in linear model\n",
    "M = 100            #number of runs\n",
    "fn_in = 'data/ihdp_npci_1-100.all.npz'\n",
    "save = False"
   ]
  },
  {
   "cell_type": "code",
   "execution_count": 3,
   "metadata": {},
   "outputs": [],
   "source": [
    "params = IHDPParams(fn_in)"
   ]
  },
  {
   "cell_type": "code",
   "execution_count": 4,
   "metadata": {},
   "outputs": [],
   "source": [
    "N = params.n       #number of timesteps\n",
    "k = 2           #number of arms\n",
    "d = params.d           #dimension of context (includes one dim for intercept term if present)\n",
    "delta = 1./N          #confidence level, adjusted for horizon"
   ]
  },
  {
   "cell_type": "markdown",
   "metadata": {},
   "source": [
    "## Look at the dataset"
   ]
  },
  {
   "cell_type": "code",
   "execution_count": 5,
   "metadata": {},
   "outputs": [
    {
     "data": {
      "text/plain": [
       "(747, 25, 100)"
      ]
     },
     "execution_count": 5,
     "metadata": {},
     "output_type": "execute_result"
    }
   ],
   "source": [
    "params.ctx.shape"
   ]
  },
  {
   "cell_type": "code",
   "execution_count": null,
   "metadata": {},
   "outputs": [
    {
     "data": {
      "text/plain": [
       "array([[ 0.98668842,  0.99634625, -1.10562395,  2.24431956,  1.12129247,\n",
       "        -0.02970882,  1.        ,  0.        ,  1.        ,  1.        ,\n",
       "         0.        ,  0.        ,  1.        ,  1.        ,  0.        ,\n",
       "         1.        ,  0.        ,  1.        ,  0.        ,  0.        ,\n",
       "         0.        ,  0.        ,  0.        ,  0.        ,  1.        ],\n",
       "       [ 1.41901117,  1.79587438, -1.47798693,  0.16170253, -1.37939562,\n",
       "        -0.52655561,  0.        ,  0.        ,  0.        ,  1.        ,\n",
       "         0.        ,  0.        ,  1.        ,  1.        ,  0.        ,\n",
       "         1.        ,  0.        ,  1.        ,  0.        ,  1.        ,\n",
       "         0.        ,  0.        ,  0.        ,  0.        ,  0.        ],\n",
       "       [-1.06684465, -1.8020022 ,  1.12855393,  1.20301104,  0.68367206,\n",
       "         1.29521594,  0.        ,  0.        ,  1.        ,  0.        ,\n",
       "         0.        ,  1.        ,  1.        ,  1.        ,  0.        ,\n",
       "         1.        ,  1.        ,  1.        ,  0.        ,  1.        ,\n",
       "         0.        ,  0.        ,  0.        ,  0.        ,  0.        ],\n",
       "       [-1.75856105, -1.33969235,  0.38382797, -0.87960599, -0.94177521,\n",
       "        -0.85778679,  0.        ,  0.        ,  0.        ,  1.        ,\n",
       "         0.        ,  0.        ,  1.        ,  2.        ,  0.        ,\n",
       "         1.        ,  1.        ,  1.        ,  0.        ,  0.        ,\n",
       "         0.        ,  0.        ,  0.        ,  0.        ,  0.        ],\n",
       "       [-0.9803801 , -0.20294594,  0.75619095, -0.87960599,  0.80870646,\n",
       "         0.63275356,  1.        ,  0.        ,  1.        ,  0.        ,\n",
       "         0.        ,  0.        ,  1.        ,  2.        ,  0.        ,\n",
       "         1.        ,  1.        ,  1.        ,  0.        ,  0.        ,\n",
       "         1.        ,  0.        ,  0.        ,  0.        ,  0.        ],\n",
       "       [-0.87229941, -0.60271001,  0.38382797,  2.24431956,  0.62115485,\n",
       "         1.46083153,  0.        ,  0.        ,  1.        ,  0.        ,\n",
       "         1.        ,  0.        ,  0.        ,  1.        ,  0.        ,\n",
       "         1.        ,  1.        ,  1.        ,  1.        ,  0.        ,\n",
       "         0.        ,  0.        ,  0.        ,  0.        ,  0.        ],\n",
       "       [ 0.18689133,  0.59658219,  0.38382797, -0.87960599,  0.62115485,\n",
       "        -0.52655561,  1.        ,  0.        ,  0.        ,  0.        ,\n",
       "         0.        ,  1.        ,  0.        ,  2.        ,  0.        ,\n",
       "         1.        ,  0.        ,  1.        ,  0.        ,  1.        ,\n",
       "         0.        ,  0.        ,  0.        ,  0.        ,  0.        ],\n",
       "       [ 0.23012361,  0.99634625,  0.01146499,  0.16170253, -3.69253211,\n",
       "         1.29521594,  0.        ,  1.        ,  1.        ,  0.        ,\n",
       "         0.        ,  0.        ,  0.        ,  1.        ,  0.        ,\n",
       "         1.        ,  1.        ,  1.        ,  0.        ,  0.        ,\n",
       "         0.        ,  0.        ,  0.        ,  0.        ,  0.        ],\n",
       "       [ 0.12204292,  0.59658219, -0.73326097,  0.16170253,  0.99625807,\n",
       "        -0.36094001,  0.        ,  1.        ,  1.        ,  0.        ,\n",
       "         0.        ,  1.        ,  0.        ,  1.        ,  0.        ,\n",
       "         1.        ,  1.        ,  1.        ,  0.        ,  0.        ,\n",
       "         0.        ,  0.        ,  0.        ,  0.        ,  1.        ],\n",
       "       [ 0.40305271,  0.19681812,  0.01146499, -0.87960599,  1.7464645 ,\n",
       "        -1.35463358,  0.        ,  0.        ,  0.        ,  1.        ,\n",
       "         0.        ,  0.        ,  1.        ,  2.        ,  0.        ,\n",
       "         1.        ,  1.        ,  1.        ,  1.        ,  0.        ,\n",
       "         0.        ,  0.        ,  0.        ,  0.        ,  0.        ]])"
      ]
     },
     "execution_count": 6,
     "metadata": {},
     "output_type": "execute_result"
    }
   ],
   "source": [
    "params = IHDPParams(fn_in)\n",
    "params.ctx[0:10,:,0]"
   ]
  },
  {
   "cell_type": "markdown",
   "metadata": {},
   "source": [
    "## Run online learning algs"
   ]
  },
  {
   "cell_type": "code",
   "execution_count": null,
   "metadata": {},
   "outputs": [
    {
     "name": "stdout",
     "output_type": "stream",
     "text": [
      "Run 1/100\n"
     ]
    },
    {
     "name": "stderr",
     "output_type": "stream",
     "text": [
      "lib/bandits.py:73: RuntimeWarning: invalid value encountered in sqrt\n",
      "  self.beta = lambda v: np.sqrt(self.lamd)*L + np.sqrt(np.log(np.linalg.det(v))-self.d*np.log(self.lamd)-2*np.log(delta))\n"
     ]
    }
   ],
   "source": [
    "regret_ucb = np.zeros((M,N))\n",
    "for j in range(M):\n",
    "    print(\"Run %d/%d\"%(j+1,M))\n",
    "    params = IHDPParams(fn_in)\n",
    "    generator = IHDPGenerator(params)\n",
    "    linucb = LinUCB(generator, delta, n_pulls=N)\n",
    "    for i in range(N):\n",
    "        (ctx, arm_idx, obs, reg) = linucb.step()\n",
    "        regret_ucb[j,i] = reg"
   ]
  },
  {
   "cell_type": "code",
   "execution_count": null,
   "metadata": {},
   "outputs": [],
   "source": [
    "regret_thr = np.zeros((M,N))\n",
    "for j in range(M):\n",
    "    print(\"Run %d/%d\"%(j+1,M))\n",
    "    params = IHDPParams(fn_in)\n",
    "    generator = IHDPGenerator(params)\n",
    "    thresholdbandit = ThresholdBandit(generator, delta, n_pulls = N)\n",
    "    for i in range(N):\n",
    "        (ctx, arm_idx, obs, reg) = thresholdbandit.step()\n",
    "        regret_thr[j,i] = reg"
   ]
  },
  {
   "cell_type": "code",
   "execution_count": null,
   "metadata": {},
   "outputs": [],
   "source": [
    "regret_conthr = np.zeros((M,N))\n",
    "for j in range(M):\n",
    "    print(\"Run %d/%d\"%(j+1,M))\n",
    "    params = IHDPParams(fn_in)\n",
    "    generator = IHDPGenerator(params)\n",
    "    thresholdbandit = ThresholdConsBandit(generator, delta, n_pulls = N)\n",
    "    for i in range(N):\n",
    "        (ctx, arm_idx, obs, reg) = thresholdbandit.step()\n",
    "        regret_conthr[j,i] = reg"
   ]
  },
  {
   "cell_type": "code",
   "execution_count": null,
   "metadata": {},
   "outputs": [],
   "source": [
    "regret_gre = np.zeros((M,N))\n",
    "for j in range(M):\n",
    "    print(\"Run %d/%d\"%(j+1,M))\n",
    "    params = IHDPParams(fn_in)\n",
    "    generator = IHDPGenerator(params)\n",
    "    thresholdbandit = GreedyBandit(generator, delta, n_pulls = N)\n",
    "    for i in range(N):\n",
    "        (ctx, arm_idx, obs, reg) = thresholdbandit.step()\n",
    "        regret_gre[j,i] = reg"
   ]
  },
  {
   "cell_type": "markdown",
   "metadata": {},
   "source": [
    "## The oracle"
   ]
  },
  {
   "cell_type": "code",
   "execution_count": null,
   "metadata": {},
   "outputs": [],
   "source": [
    "#Fit least squares with all the data\n",
    "\n",
    "#Predict "
   ]
  },
  {
   "cell_type": "markdown",
   "metadata": {},
   "source": [
    "## The regret"
   ]
  },
  {
   "cell_type": "code",
   "execution_count": null,
   "metadata": {
    "collapsed": true
   },
   "outputs": [],
   "source": []
  },
  {
   "cell_type": "code",
   "execution_count": null,
   "metadata": {},
   "outputs": [],
   "source": [
    "sns.tsplot(regret_ucb, color = 'red')\n",
    "sns.tsplot(regret_thr, color = 'green')\n",
    "sns.tsplot(regret_conthr, color = 'blue')\n",
    "sns.tsplot(regret_gre, color = 'purple')\n",
    "\n",
    "plt.legend(['LinUCB', 'Threshold greedy', 'Threshold conservative', 'Greedy'])\n",
    "plt.xlabel('round')\n",
    "plt.ylabel('regret')\n",
    "sns.despine(trim = True)"
   ]
  },
  {
   "cell_type": "code",
   "execution_count": null,
   "metadata": {
    "collapsed": true
   },
   "outputs": [],
   "source": []
  }
 ],
 "metadata": {
  "kernelspec": {
   "display_name": "Python 2",
   "language": "python",
   "name": "python2"
  },
  "language_info": {
   "codemirror_mode": {
    "name": "ipython",
    "version": 2
   },
   "file_extension": ".py",
   "mimetype": "text/x-python",
   "name": "python",
   "nbconvert_exporter": "python",
   "pygments_lexer": "ipython2",
   "version": "2.7.12"
  }
 },
 "nbformat": 4,
 "nbformat_minor": 2
}
