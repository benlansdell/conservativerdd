{
 "cells": [
  {
   "cell_type": "markdown",
   "metadata": {},
   "source": [
    "### Test IHDP data"
   ]
  },
  {
   "cell_type": "code",
   "execution_count": 1,
   "metadata": {},
   "outputs": [
    {
     "name": "stdout",
     "output_type": "stream",
     "text": [
      "Populating the interactive namespace from numpy and matplotlib\n"
     ]
    },
    {
     "ename": "SyntaxError",
     "evalue": "Missing parentheses in call to 'print'. Did you mean print(\"Updating theta_tilde\")? (bandits.py, line 447)",
     "output_type": "error",
     "traceback": [
      "\u001b[0;36m  File \u001b[0;32m\"/home/lansdell/projects/conservativerdd/lib/bandits.py\"\u001b[0;36m, line \u001b[0;32m447\u001b[0m\n\u001b[0;31m    print \"Updating theta_tilde\"\u001b[0m\n\u001b[0m                               ^\u001b[0m\n\u001b[0;31mSyntaxError\u001b[0m\u001b[0;31m:\u001b[0m Missing parentheses in call to 'print'. Did you mean print(\"Updating theta_tilde\")?\n"
     ]
    }
   ],
   "source": [
    "%pylab inline\n",
    "pylab.rcParams['figure.figsize'] = (6, 6)\n",
    "\n",
    "from lib.bandits import LinUCB, ThresholdBandit, GreedyBandit, ThresholdConsBandit, RarelySwitchingLinUCB, RCTBandit,\\\n",
    "    ThresholdMaxConsBandit, ThresholdMaxConsGreedyBandit\n",
    "from lib.generator import IHDPGenerator, IHDPParams\n",
    "import numpy as np \n",
    "import pandas\n",
    "import matplotlib.pyplot as plt\n",
    "from sklearn.utils import shuffle\n",
    "import seaborn as sns\n",
    "sns.set_style('ticks')\n",
    "\n",
    "def smooth(y, box_pts=100):\n",
    "    box = np.ones(box_pts)/box_pts\n",
    "    if len(y.shape) == 2:\n",
    "        y_smooth = y.copy()\n",
    "        for i in range(y.shape[0]):\n",
    "            y_smooth[i,:] = np.convolve(y[i,:], box, mode='same')\n",
    "    else:\n",
    "        y_smooth = np.convolve(y, box, mode='same')\n",
    "    return y_smooth"
   ]
  },
  {
   "cell_type": "code",
   "execution_count": null,
   "metadata": {
    "collapsed": true
   },
   "outputs": [],
   "source": [
    "intercept = True #constant term in linear model\n",
    "M = 100            #number of runs\n",
    "fn_in = 'data/ihdp_npci_1-100.all.npz'\n",
    "save = False"
   ]
  },
  {
   "cell_type": "code",
   "execution_count": null,
   "metadata": {
    "collapsed": true
   },
   "outputs": [],
   "source": [
    "params = IHDPParams(fn_in)"
   ]
  },
  {
   "cell_type": "code",
   "execution_count": null,
   "metadata": {
    "collapsed": true
   },
   "outputs": [],
   "source": [
    "N = params.n       #number of timesteps\n",
    "k = 2           #number of arms\n",
    "d = params.d           #dimension of context (includes one dim for intercept term if present)\n",
    "delta = 1./N          #confidence level, adjusted for horizon"
   ]
  },
  {
   "cell_type": "markdown",
   "metadata": {},
   "source": [
    "## Look at the dataset"
   ]
  },
  {
   "cell_type": "code",
   "execution_count": null,
   "metadata": {},
   "outputs": [],
   "source": [
    "params.ctx.shape"
   ]
  },
  {
   "cell_type": "code",
   "execution_count": null,
   "metadata": {},
   "outputs": [],
   "source": [
    "params = IHDPParams(fn_in)\n",
    "params.ctx[0:10,:,0]"
   ]
  },
  {
   "cell_type": "markdown",
   "metadata": {},
   "source": [
    "## Run online learning algs"
   ]
  },
  {
   "cell_type": "code",
   "execution_count": null,
   "metadata": {},
   "outputs": [],
   "source": [
    "regret_rct = np.zeros((M,N))\n",
    "for j in range(M):\n",
    "    print(\"Run %d/%d\"%(j+1,M))\n",
    "    params = IHDPParams(fn_in)\n",
    "    generator = IHDPGenerator(params)\n",
    "    bandit = RCTBandit(generator, delta, n_pulls=N)\n",
    "    for i in range(N):\n",
    "        (ctx, arm_idx, obs, reg) = bandit.step()\n",
    "        regret_rct[j,i] = reg\n",
    "    if hasattr(bandit, 'update_theta'):\n",
    "        updatepol_rct[m,:] = bandit.update_theta[0:N]"
   ]
  },
  {
   "cell_type": "code",
   "execution_count": null,
   "metadata": {},
   "outputs": [],
   "source": [
    "regret_ucb = np.zeros((M,N))\n",
    "updatepol_ucb = np.zeros((M,N))\n",
    "for j in range(M):\n",
    "    print(\"Run %d/%d\"%(j+1,M))\n",
    "    params = IHDPParams(fn_in)\n",
    "    generator = IHDPGenerator(params)\n",
    "    linucb = LinUCB(generator, delta, n_pulls=N)\n",
    "    for i in range(N):\n",
    "        (ctx, arm_idx, obs, reg) = linucb.step()\n",
    "        regret_ucb[j,i] = reg\n",
    "    if hasattr(linucb, 'update_theta'):\n",
    "        updatepol_ucb[m,:] = linucb.update_theta[0:N]"
   ]
  },
  {
   "cell_type": "code",
   "execution_count": null,
   "metadata": {},
   "outputs": [],
   "source": [
    "regret_thr = np.zeros((M,N))\n",
    "updatepol_thr = np.zeros((M,N))\n",
    "for j in range(M):\n",
    "    print(\"Run %d/%d\"%(j+1,M))\n",
    "    params = IHDPParams(fn_in)\n",
    "    generator = IHDPGenerator(params)\n",
    "    thresholdbandit = ThresholdBandit(generator, delta, n_pulls = N)\n",
    "    for i in range(N):\n",
    "        (ctx, arm_idx, obs, reg) = thresholdbandit.step()\n",
    "        regret_thr[j,i] = reg\n",
    "    if hasattr(thresholdbandit, 'update_theta'):\n",
    "        updatepol_thr[j,:] = thresholdbandit.update_theta[0:N]"
   ]
  },
  {
   "cell_type": "code",
   "execution_count": null,
   "metadata": {},
   "outputs": [],
   "source": [
    "regret_conthr = np.zeros((M,N))\n",
    "updatepol_thrcons = np.zeros((M,N))\n",
    "for j in range(M):\n",
    "    print(\"Run %d/%d\"%(j+1,M))\n",
    "    params = IHDPParams(fn_in)\n",
    "    generator = IHDPGenerator(params)\n",
    "    thresholdbandit = ThresholdConsBandit(generator, delta, n_pulls = N)\n",
    "    for i in range(N):\n",
    "        (ctx, arm_idx, obs, reg) = thresholdbandit.step()\n",
    "        regret_conthr[j,i] = reg\n",
    "    if hasattr(thresholdbandit, 'update_theta'):\n",
    "        updatepol_thrcons[j,:] = thresholdbandit.update_theta[0:N]"
   ]
  },
  {
   "cell_type": "code",
   "execution_count": null,
   "metadata": {},
   "outputs": [],
   "source": [
    "regret_gre = np.zeros((M,N))\n",
    "for j in range(M):\n",
    "    print(\"Run %d/%d\"%(j+1,M))\n",
    "    params = IHDPParams(fn_in)\n",
    "    generator = IHDPGenerator(params)\n",
    "    thresholdbandit = GreedyBandit(generator, delta, n_pulls = N)\n",
    "    for i in range(N):\n",
    "        (ctx, arm_idx, obs, reg) = thresholdbandit.step()\n",
    "        regret_gre[j,i] = reg"
   ]
  },
  {
   "cell_type": "code",
   "execution_count": null,
   "metadata": {},
   "outputs": [],
   "source": [
    "regret_rs = np.zeros((M,N))\n",
    "updatepol_rs = np.zeros((M,N))\n",
    "for j in range(M):\n",
    "    print(\"Run %d/%d\"%(j+1,M))\n",
    "    params = IHDPParams(fn_in)\n",
    "    generator = IHDPGenerator(params)\n",
    "    thresholdbandit = RarelySwitchingLinUCB(generator, delta, n_pulls = N)\n",
    "    for i in range(N):\n",
    "        (ctx, arm_idx, obs, reg) = thresholdbandit.step()\n",
    "        regret_rs[j,i] = reg\n",
    "    if hasattr(thresholdbandit, 'update_theta'):\n",
    "        updatepol_rs[j,:] = thresholdbandit.update_theta[0:N]"
   ]
  },
  {
   "cell_type": "code",
   "execution_count": null,
   "metadata": {
    "scrolled": true
   },
   "outputs": [],
   "source": [
    "regret_mcg = np.zeros((M,N))\n",
    "updatepol_mcg = np.zeros((M,N))\n",
    "for j in range(M):\n",
    "    print(\"Run %d/%d\"%(j+1,M))\n",
    "    params = IHDPParams(fn_in)\n",
    "    generator = IHDPGenerator(params)\n",
    "    thresholdbandit = ThresholdMaxConsGreedyBandit(generator, delta, n_pulls = N)\n",
    "    for i in range(N):\n",
    "        (ctx, arm_idx, obs, reg) = thresholdbandit.step()\n",
    "        regret_mcg[j,i] = reg\n",
    "    if hasattr(thresholdbandit, 'update_theta'):\n",
    "        updatepol_mcg[j,:] = thresholdbandit.update_theta[0:N]"
   ]
  },
  {
   "cell_type": "code",
   "execution_count": null,
   "metadata": {},
   "outputs": [],
   "source": [
    "regret_mc = np.zeros((M,N))\n",
    "updatepol_mc = np.zeros((M,N))\n",
    "for j in range(M):\n",
    "    print(\"Run %d/%d\"%(j+1,M))\n",
    "    params = IHDPParams(fn_in)\n",
    "    generator = IHDPGenerator(params)\n",
    "    thresholdbandit = ThresholdMaxConsBandit(generator, delta, n_pulls = N)\n",
    "    for i in range(N):\n",
    "        (ctx, arm_idx, obs, reg) = thresholdbandit.step()\n",
    "        regret_mc[j,i] = reg\n",
    "    if hasattr(thresholdbandit, 'update_theta'):\n",
    "        updatepol_mc[j,:] = thresholdbandit.update_theta[0:N]"
   ]
  },
  {
   "cell_type": "markdown",
   "metadata": {},
   "source": [
    "## The regret"
   ]
  },
  {
   "cell_type": "code",
   "execution_count": null,
   "metadata": {},
   "outputs": [],
   "source": [
    "fig, axes = plt.subplots(1,2, figsize = (8,3))\n",
    "\n",
    "sns.tsplot(np.divide(np.cumsum(regret_ucb, axis=1), np.arange(N)), color = 'C0', ax = axes[0])\n",
    "sns.tsplot(np.divide(np.cumsum(regret_gre, axis=1), np.arange(N)), color = 'C1', ax = axes[0])\n",
    "#sns.tsplot(np.divide(np.cumsum(regret_thr, axis=1), np.arange(N)), color = 'C2', ax = axes[0])\n",
    "#sns.tsplot(np.divide(np.cumsum(regret_conthr, axis=1), np.arange(N)), color = 'C3', ax = axes[0])\n",
    "sns.tsplot(np.divide(np.cumsum(regret_rs, axis=1), np.arange(N)), color = 'C4', ax = axes[0])\n",
    "sns.tsplot(np.divide(np.cumsum(regret_rct, axis=1), np.arange(N)), color = 'black', ax = axes[0])\n",
    "\n",
    "sns.tsplot(np.divide(np.cumsum(regret_mc, axis=1), np.arange(N)), color = 'C5', ax = axes[0])\n",
    "sns.tsplot(np.divide(np.cumsum(regret_mcg, axis=1), np.arange(N)), color = 'C6', ax = axes[0])\n",
    "\n",
    "axes[0].legend(['LinUCB', 'Greedy', 'RS greedy', 'RS conservative', 'RS LinUCB', 'RCT', 'RS MaxCon', 'RS MaxConGreedy'])\n",
    "axes[0].set_xlabel('round')\n",
    "axes[0].set_ylabel('cumulative per step regret')\n",
    "\n",
    "#sns.tsplot(np.cumsum(updatepol_thr, axis=1), color = 'C2', ax = axes[1])\n",
    "#sns.tsplot(np.cumsum(updatepol_thrcons, axis=1), color = 'C3', ax = axes[1])\n",
    "sns.tsplot(np.cumsum(updatepol_rs, axis=1), color = 'C4', ax = axes[1])\n",
    "sns.tsplot(np.cumsum(updatepol_mc, axis=1), color = 'C5', ax = axes[1])\n",
    "sns.tsplot(np.cumsum(updatepol_mcg, axis=1), color = 'C6', ax = axes[1])\n",
    "\n",
    "#axes[1].plot(np.cumsum(updatepol_thr, axis = 1).T, color = 'grey', linewidth = 0.5)\n",
    "#axes[1].plot(np.mean(np.cumsum(updatepol_thr, axis = 1), axis = 0), color = 'green', linewidth = 2)\n",
    "#axes[1].plot(np.cumsum(updatepol_thrcons, axis = 1).T, color = 'grey', linewidth = 0.5)\n",
    "#axes[1].plot(np.mean(np.cumsum(updatepol_thrcons, axis = 1), axis = 0), color = 'blue', linewidth = 2)\n",
    "#axes[1].plot(np.cumsum(updatepol_rs, axis = 1).T, color = 'grey', linewidth = 0.5)\n",
    "#axes[1].plot(np.mean(np.cumsum(updatepol_rs, axis = 1), axis = 0), color = 'orange', linewidth = 2)\n",
    "\n",
    "axes[1].set_xlabel('round')\n",
    "axes[1].set_ylabel('cumulative policy changes')\n",
    "\n",
    "sns.despine(trim = True)\n",
    "#plt.savefig('./figs/ihdp.pdf')"
   ]
  },
  {
   "cell_type": "code",
   "execution_count": null,
   "metadata": {},
   "outputs": [],
   "source": [
    "#The number of changes in policy.....\n",
    "print('Mean changes for mcg: %f'%np.mean(np.cumsum(updatepol_mcg, axis=1)[:,-1]))\n",
    "print('Mean changes for mc: %f'%np.mean(np.cumsum(updatepol_mc, axis=1)[:,-1]))\n",
    "print('Mean changes for rs: %f'%np.mean(np.cumsum(updatepol_rs, axis=1)[:,-1]))\n",
    "print('Mean changes for thrcons: %f'%np.mean(np.cumsum(updatepol_thrcons, axis=1)[:,-1]))\n",
    "print('Mean changes for thrgre: %f'%np.mean(np.cumsum(updatepol_thr, axis=1)[:,-1]))"
   ]
  },
  {
   "cell_type": "code",
   "execution_count": null,
   "metadata": {
    "collapsed": true
   },
   "outputs": [],
   "source": []
  }
 ],
 "metadata": {
  "kernelspec": {
   "display_name": "Python 2",
   "language": "python",
   "name": "python2"
  },
  "language_info": {
   "codemirror_mode": {
    "name": "ipython",
    "version": 3
   },
   "file_extension": ".py",
   "mimetype": "text/x-python",
   "name": "python",
   "nbconvert_exporter": "python",
   "pygments_lexer": "ipython3",
   "version": "3.6.6"
  }
 },
 "nbformat": 4,
 "nbformat_minor": 2
}
