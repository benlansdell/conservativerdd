{
 "cells": [
  {
   "cell_type": "markdown",
   "metadata": {},
   "source": [
    "### Test EEG data"
   ]
  },
  {
   "cell_type": "code",
   "execution_count": 1,
   "metadata": {},
   "outputs": [
    {
     "name": "stdout",
     "output_type": "stream",
     "text": [
      "Populating the interactive namespace from numpy and matplotlib\n"
     ]
    },
    {
     "name": "stderr",
     "output_type": "stream",
     "text": [
      "/usr/local/lib/python2.7/dist-packages/pandas/core/computation/__init__.py:18: UserWarning: The installed version of numexpr 2.4.3 is not supported in pandas and will be not be used\n",
      "The minimum supported version is 2.4.6\n",
      "\n",
      "  ver=ver, min_ver=_MIN_NUMEXPR_VERSION), UserWarning)\n",
      "/home/lansdell/.local/lib/python2.7/site-packages/matplotlib/__init__.py:913: UserWarning: axes.color_cycle is deprecated and replaced with axes.prop_cycle; please use the latter.\n",
      "  warnings.warn(self.msg_depr % (key, alt_key))\n"
     ]
    }
   ],
   "source": [
    "%pylab inline\n",
    "pylab.rcParams['figure.figsize'] = (10, 6)\n",
    "\n",
    "from lib.bandits import LinUCB, ThresholdBandit, GreedyBandit, ThresholdConsBandit\n",
    "from lib.generator import DataGenerator, DataGeneratorParams\n",
    "import numpy as np \n",
    "import pandas\n",
    "import matplotlib.pyplot as plt\n",
    "from sklearn.utils import shuffle\n",
    "import seaborn as sns\n",
    "sns.set_style('ticks')\n",
    "\n",
    "def first_nonzero(arr, axis, invalid_val=-1):\n",
    "    mask = arr!=0\n",
    "    return np.where(mask.any(axis=axis), mask.argmax(axis=axis), invalid_val)\n",
    "\n",
    "def smooth(y, box_pts=100):\n",
    "    box = np.ones(box_pts)/box_pts\n",
    "    if len(y.shape) == 2:\n",
    "        y_smooth = y.copy()\n",
    "        for i in range(y.shape[0]):\n",
    "            y_smooth[i,:] = np.convolve(y[i,:], box, mode='same')\n",
    "    else:\n",
    "        y_smooth = np.convolve(y, box, mode='same')\n",
    "    return y_smooth\n",
    "\n",
    "def load_data(fn_in):\n",
    "    df = pandas.read_csv(fn_in)\n",
    "    #df = shuffle(df)\n",
    "    df = df.sample(frac=1).reset_index(drop=True)\n",
    "    #Center and scale the data....\n",
    "    d = df.shape[1]-1\n",
    "    for i in range(d):\n",
    "        idx = 'V%d'%(i+1)\n",
    "        df[idx] = (df[idx] - df[idx].mean())/df[idx].std()\n",
    "    dparams = DataGeneratorParams(df, df.shape[1]-1, intercept = intercept)\n",
    "    dgenerator = DataGenerator(dparams)\n",
    "    return dparams, dgenerator"
   ]
  },
  {
   "cell_type": "code",
   "execution_count": 2,
   "metadata": {
    "collapsed": true
   },
   "outputs": [],
   "source": [
    "intercept = True #constant term in linear model\n",
    "M = 10            #number of runs\n",
    "lambd = 1e-4\n",
    "fn_in = 'EEG.csv'\n",
    "save = True"
   ]
  },
  {
   "cell_type": "code",
   "execution_count": 3,
   "metadata": {
    "collapsed": true
   },
   "outputs": [],
   "source": [
    "dparams, dgenerator = load_data(fn_in)\n",
    "N = dparams.df.shape[0]-1       #number of timesteps\n",
    "k = dparams.k           #number of arms\n",
    "d = dparams.d           #dimension of context (includes one dim for intercept term if present)\n",
    "delta = 1./N          #confidence level, adjusted for horizon"
   ]
  },
  {
   "cell_type": "markdown",
   "metadata": {},
   "source": [
    "## Look at the dataset"
   ]
  },
  {
   "cell_type": "code",
   "execution_count": 4,
   "metadata": {},
   "outputs": [
    {
     "data": {
      "text/html": [
       "<div>\n",
       "<style>\n",
       "    .dataframe thead tr:only-child th {\n",
       "        text-align: right;\n",
       "    }\n",
       "\n",
       "    .dataframe thead th {\n",
       "        text-align: left;\n",
       "    }\n",
       "\n",
       "    .dataframe tbody tr th {\n",
       "        vertical-align: top;\n",
       "    }\n",
       "</style>\n",
       "<table border=\"1\" class=\"dataframe\">\n",
       "  <thead>\n",
       "    <tr style=\"text-align: right;\">\n",
       "      <th></th>\n",
       "      <th>V1</th>\n",
       "      <th>V2</th>\n",
       "      <th>V3</th>\n",
       "      <th>V4</th>\n",
       "      <th>V5</th>\n",
       "      <th>V6</th>\n",
       "      <th>V7</th>\n",
       "      <th>V8</th>\n",
       "      <th>V9</th>\n",
       "      <th>V10</th>\n",
       "      <th>V11</th>\n",
       "      <th>V12</th>\n",
       "      <th>V13</th>\n",
       "      <th>V14</th>\n",
       "      <th>Class</th>\n",
       "      <th>ones</th>\n",
       "    </tr>\n",
       "  </thead>\n",
       "  <tbody>\n",
       "    <tr>\n",
       "      <th>0</th>\n",
       "      <td>-0.020938</td>\n",
       "      <td>-0.324274</td>\n",
       "      <td>-0.321473</td>\n",
       "      <td>-0.014318</td>\n",
       "      <td>0.023574</td>\n",
       "      <td>-0.010843</td>\n",
       "      <td>-0.013517</td>\n",
       "      <td>-0.635550</td>\n",
       "      <td>-0.019133</td>\n",
       "      <td>-0.688189</td>\n",
       "      <td>-0.431560</td>\n",
       "      <td>-0.339463</td>\n",
       "      <td>-0.004945</td>\n",
       "      <td>-0.014455</td>\n",
       "      <td>2</td>\n",
       "      <td>1.0</td>\n",
       "    </tr>\n",
       "    <tr>\n",
       "      <th>1</th>\n",
       "      <td>-0.015380</td>\n",
       "      <td>-0.491660</td>\n",
       "      <td>0.059592</td>\n",
       "      <td>-0.010779</td>\n",
       "      <td>-0.138781</td>\n",
       "      <td>-0.011369</td>\n",
       "      <td>-0.011845</td>\n",
       "      <td>-0.233059</td>\n",
       "      <td>-0.011691</td>\n",
       "      <td>0.363035</td>\n",
       "      <td>-0.146533</td>\n",
       "      <td>-0.438153</td>\n",
       "      <td>-0.013005</td>\n",
       "      <td>-0.010973</td>\n",
       "      <td>1</td>\n",
       "      <td>1.0</td>\n",
       "    </tr>\n",
       "    <tr>\n",
       "      <th>2</th>\n",
       "      <td>-0.011471</td>\n",
       "      <td>0.066439</td>\n",
       "      <td>-0.032917</td>\n",
       "      <td>-0.010091</td>\n",
       "      <td>0.008893</td>\n",
       "      <td>-0.004883</td>\n",
       "      <td>-0.010509</td>\n",
       "      <td>0.169773</td>\n",
       "      <td>-0.006893</td>\n",
       "      <td>-0.122105</td>\n",
       "      <td>-0.282298</td>\n",
       "      <td>-0.240774</td>\n",
       "      <td>-0.018525</td>\n",
       "      <td>-0.012190</td>\n",
       "      <td>1</td>\n",
       "      <td>1.0</td>\n",
       "    </tr>\n",
       "    <tr>\n",
       "      <th>3</th>\n",
       "      <td>-0.011263</td>\n",
       "      <td>-0.491660</td>\n",
       "      <td>-0.055875</td>\n",
       "      <td>-0.010681</td>\n",
       "      <td>-0.005788</td>\n",
       "      <td>-0.011195</td>\n",
       "      <td>-0.010730</td>\n",
       "      <td>-0.233059</td>\n",
       "      <td>-0.007132</td>\n",
       "      <td>-0.162577</td>\n",
       "      <td>0.328511</td>\n",
       "      <td>-0.018601</td>\n",
       "      <td>-0.002826</td>\n",
       "      <td>-0.008536</td>\n",
       "      <td>1</td>\n",
       "      <td>1.0</td>\n",
       "    </tr>\n",
       "    <tr>\n",
       "      <th>4</th>\n",
       "      <td>0.013636</td>\n",
       "      <td>-0.257233</td>\n",
       "      <td>0.278823</td>\n",
       "      <td>-0.005273</td>\n",
       "      <td>-0.507820</td>\n",
       "      <td>-0.014351</td>\n",
       "      <td>-0.007053</td>\n",
       "      <td>-0.495583</td>\n",
       "      <td>-0.015534</td>\n",
       "      <td>-0.135771</td>\n",
       "      <td>-0.648571</td>\n",
       "      <td>0.277709</td>\n",
       "      <td>0.027735</td>\n",
       "      <td>0.001737</td>\n",
       "      <td>2</td>\n",
       "      <td>1.0</td>\n",
       "    </tr>\n",
       "  </tbody>\n",
       "</table>\n",
       "</div>"
      ],
      "text/plain": [
       "         V1        V2        V3        V4        V5        V6        V7  \\\n",
       "0 -0.020938 -0.324274 -0.321473 -0.014318  0.023574 -0.010843 -0.013517   \n",
       "1 -0.015380 -0.491660  0.059592 -0.010779 -0.138781 -0.011369 -0.011845   \n",
       "2 -0.011471  0.066439 -0.032917 -0.010091  0.008893 -0.004883 -0.010509   \n",
       "3 -0.011263 -0.491660 -0.055875 -0.010681 -0.005788 -0.011195 -0.010730   \n",
       "4  0.013636 -0.257233  0.278823 -0.005273 -0.507820 -0.014351 -0.007053   \n",
       "\n",
       "         V8        V9       V10       V11       V12       V13       V14  \\\n",
       "0 -0.635550 -0.019133 -0.688189 -0.431560 -0.339463 -0.004945 -0.014455   \n",
       "1 -0.233059 -0.011691  0.363035 -0.146533 -0.438153 -0.013005 -0.010973   \n",
       "2  0.169773 -0.006893 -0.122105 -0.282298 -0.240774 -0.018525 -0.012190   \n",
       "3 -0.233059 -0.007132 -0.162577  0.328511 -0.018601 -0.002826 -0.008536   \n",
       "4 -0.495583 -0.015534 -0.135771 -0.648571  0.277709  0.027735  0.001737   \n",
       "\n",
       "   Class  ones  \n",
       "0      2   1.0  \n",
       "1      1   1.0  \n",
       "2      1   1.0  \n",
       "3      1   1.0  \n",
       "4      2   1.0  "
      ]
     },
     "execution_count": 4,
     "metadata": {},
     "output_type": "execute_result"
    }
   ],
   "source": [
    "dparams, dgenerator = load_data(fn_in)\n",
    "dparams.df.head()"
   ]
  },
  {
   "cell_type": "code",
   "execution_count": 5,
   "metadata": {},
   "outputs": [
    {
     "data": {
      "text/plain": [
       "6.676013084985647e-05"
      ]
     },
     "execution_count": 5,
     "metadata": {},
     "output_type": "execute_result"
    }
   ],
   "source": [
    "ctx = dgenerator.context()\n",
    "linucb = LinUCB(dgenerator, delta, n_pulls=N, lambd = lambd)\n",
    "linucb.arms(ctx,0)\n",
    "self = linucb\n",
    "arm_idx = self._choose_arm(ctx)\n",
    "theta = np.dot(np.linalg.inv(self.V), self.U)\n",
    "ucbs = []\n",
    "arms = [self.arms(ctx, i) for i in range(self.k)]\n",
    "arm = np.atleast_2d(arms[0]).T\n",
    "ucb = np.dot(theta.T, arm)+self.beta(self.V)*np.sqrt(np.dot(arm.T, np.dot(np.linalg.inv(self.V), arm)))\n",
    "v = self.V\n",
    "L = 1\n",
    "np.sqrt(self.lamd)*L + np.sqrt(np.log(np.linalg.det(v))-self.d*np.log(self.lamd)-2*np.log(delta))\n",
    "delta"
   ]
  },
  {
   "cell_type": "markdown",
   "metadata": {},
   "source": [
    "## Run online learning algs"
   ]
  },
  {
   "cell_type": "code",
   "execution_count": 6,
   "metadata": {},
   "outputs": [
    {
     "name": "stdout",
     "output_type": "stream",
     "text": [
      "Run 1/10\n",
      "Run 2/10\n",
      "Run 3/10\n",
      "Run 4/10\n",
      "Run 5/10\n",
      "Run 6/10\n",
      "Run 7/10\n",
      "Run 8/10\n",
      "Run 9/10\n",
      "Run 10/10\n"
     ]
    }
   ],
   "source": [
    "regret_ucb = np.zeros((M,N))\n",
    "for j in range(M):\n",
    "    print(\"Run %d/%d\"%(j+1,M))\n",
    "    dparams, dgenerator = load_data(fn_in)\n",
    "    linucb = LinUCB(dgenerator, delta, n_pulls=N, lambd = lambd)\n",
    "    for i in range(N):\n",
    "        (ctx, arm_idx, obs, reg) = linucb.step()\n",
    "        regret_ucb[j,i] = reg"
   ]
  },
  {
   "cell_type": "code",
   "execution_count": 7,
   "metadata": {},
   "outputs": [
    {
     "name": "stdout",
     "output_type": "stream",
     "text": [
      "Run 1/10\n",
      "Run 2/10\n",
      "Run 3/10\n",
      "Run 4/10\n",
      "Run 5/10\n",
      "Run 6/10\n",
      "Run 7/10\n",
      "Run 8/10\n",
      "Run 9/10\n",
      "Run 10/10\n"
     ]
    }
   ],
   "source": [
    "regret_thr = np.zeros((M,N))\n",
    "for j in range(M):\n",
    "    print(\"Run %d/%d\"%(j+1,M))\n",
    "    dparams, dgenerator = load_data(fn_in)\n",
    "    thresholdbandit = ThresholdBandit(dgenerator, delta, n_pulls = N, lambd = lambd)\n",
    "    for i in range(N):\n",
    "        (ctx, arm_idx, obs, reg) = thresholdbandit.step()\n",
    "        regret_thr[j,i] = reg"
   ]
  },
  {
   "cell_type": "code",
   "execution_count": 8,
   "metadata": {},
   "outputs": [
    {
     "name": "stdout",
     "output_type": "stream",
     "text": [
      "Run 1/10\n",
      "Run 2/10\n",
      "Run 3/10\n",
      "Run 4/10\n",
      "Run 5/10\n",
      "Run 6/10\n",
      "Run 7/10\n",
      "Run 8/10\n",
      "Run 9/10\n",
      "Run 10/10\n"
     ]
    }
   ],
   "source": [
    "regret_conthr = np.zeros((M,N))\n",
    "for j in range(M):\n",
    "    print(\"Run %d/%d\"%(j+1,M))\n",
    "    dparams, dgenerator = load_data(fn_in)\n",
    "    thresholdbandit = ThresholdConsBandit(dgenerator, delta, n_pulls = N, lambd = lambd)\n",
    "    for i in range(N):\n",
    "        (ctx, arm_idx, obs, reg) = thresholdbandit.step()\n",
    "        regret_conthr[j,i] = reg"
   ]
  },
  {
   "cell_type": "code",
   "execution_count": 9,
   "metadata": {},
   "outputs": [
    {
     "name": "stdout",
     "output_type": "stream",
     "text": [
      "Run 1/10\n",
      "Run 2/10\n",
      "Run 3/10\n",
      "Run 4/10\n",
      "Run 5/10\n",
      "Run 6/10\n",
      "Run 7/10\n",
      "Run 8/10\n",
      "Run 9/10\n",
      "Run 10/10\n"
     ]
    }
   ],
   "source": [
    "regret_gre = np.zeros((M,N))\n",
    "for j in range(M):\n",
    "    print(\"Run %d/%d\"%(j+1,M))\n",
    "    dparams, dgenerator = load_data(fn_in)\n",
    "    thresholdbandit = GreedyBandit(dgenerator, delta, n_pulls = N, lambd = lambd)\n",
    "    for i in range(N):\n",
    "        (ctx, arm_idx, obs, reg) = thresholdbandit.step()\n",
    "        regret_gre[j,i] = reg"
   ]
  },
  {
   "cell_type": "markdown",
   "metadata": {},
   "source": [
    "## The oracle"
   ]
  },
  {
   "cell_type": "code",
   "execution_count": null,
   "metadata": {
    "collapsed": true
   },
   "outputs": [],
   "source": [
    "#Fit least squares with all the data\n",
    "\n",
    "\n",
    "#Predict "
   ]
  },
  {
   "cell_type": "markdown",
   "metadata": {},
   "source": [
    "## The regret"
   ]
  },
  {
   "cell_type": "code",
   "execution_count": 11,
   "metadata": {},
   "outputs": [
    {
     "data": {
      "image/png": "[encoded data removed]",
      "text/plain": [
       "<matplotlib.figure.Figure at 0x7f66b121e210>"
      ]
     },
     "metadata": {},
     "output_type": "display_data"
    }
   ],
   "source": [
    "#plt.plot(smooth(np.mean(regret_ucb, axis = 0), box_pts = 500))\n",
    "#plt.plot(smooth(np.mean(regret_thr, axis = 0), box_pts = 500))\n",
    "#plt.plot(smooth(np.mean(regret_gre, axis = 0), box_pts = 500))\n",
    "\n",
    "sns.tsplot(smooth(regret_ucb, box_pts = 300)[:,1:-1], color = 'red')\n",
    "sns.tsplot(smooth(regret_thr, box_pts = 300)[:,1:-1], color = 'green')\n",
    "sns.tsplot(smooth(regret_conthr, box_pts = 300)[:,1:-1], color = 'blue')\n",
    "sns.tsplot(smooth(regret_gre, box_pts = 300)[:,1:-1], color = 'purple')\n",
    "\n",
    "plt.legend(['LinUCB', 'Threshold greedy', 'Threshold conservative', 'Greedy'])\n",
    "plt.xlabel('round')\n",
    "plt.ylabel('proportion of incorrect labels')\n",
    "sns.despine(trim = True)"
   ]
  },
  {
   "cell_type": "code",
   "execution_count": null,
   "metadata": {
    "collapsed": true
   },
   "outputs": [],
   "source": []
  }
 ],
 "metadata": {
  "kernelspec": {
   "display_name": "Python 2",
   "language": "python",
   "name": "python2"
  },
  "language_info": {
   "codemirror_mode": {
    "name": "ipython",
    "version": 2
   },
   "file_extension": ".py",
   "mimetype": "text/x-python",
   "name": "python",
   "nbconvert_exporter": "python",
   "pygments_lexer": "ipython2",
   "version": "2.7.12"
  }
 },
 "nbformat": 4,
 "nbformat_minor": 2
}
