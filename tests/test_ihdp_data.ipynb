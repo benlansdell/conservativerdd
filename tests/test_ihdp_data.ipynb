{
 "cells": [
  {
   "cell_type": "markdown",
   "metadata": {},
   "source": [
    "### Test IHDP data"
   ]
  },
  {
   "cell_type": "code",
   "execution_count": 1,
   "metadata": {},
   "outputs": [
    {
     "name": "stdout",
     "output_type": "stream",
     "text": [
      "Populating the interactive namespace from numpy and matplotlib\n"
     ]
    },
    {
     "name": "stderr",
     "output_type": "stream",
     "text": [
      "/usr/local/lib/python2.7/dist-packages/pandas/core/computation/__init__.py:18: UserWarning: The installed version of numexpr 2.4.3 is not supported in pandas and will be not be used\n",
      "The minimum supported version is 2.4.6\n",
      "\n",
      "  ver=ver, min_ver=_MIN_NUMEXPR_VERSION), UserWarning)\n",
      "/home/lansdell/.local/lib/python2.7/site-packages/matplotlib/__init__.py:913: UserWarning: axes.color_cycle is deprecated and replaced with axes.prop_cycle; please use the latter.\n",
      "  warnings.warn(self.msg_depr % (key, alt_key))\n"
     ]
    }
   ],
   "source": [
    "%pylab inline\n",
    "pylab.rcParams['figure.figsize'] = (6, 6)\n",
    "\n",
    "from lib.bandits import LinUCB, ThresholdBandit, GreedyBandit, ThresholdConsBandit\n",
    "from lib.generator import IHDPGenerator, IHDPParams\n",
    "import numpy as np \n",
    "import pandas\n",
    "import matplotlib.pyplot as plt\n",
    "from sklearn.utils import shuffle\n",
    "import seaborn as sns\n",
    "sns.set_style('ticks')\n",
    "\n",
    "def smooth(y, box_pts=100):\n",
    "    box = np.ones(box_pts)/box_pts\n",
    "    if len(y.shape) == 2:\n",
    "        y_smooth = y.copy()\n",
    "        for i in range(y.shape[0]):\n",
    "            y_smooth[i,:] = np.convolve(y[i,:], box, mode='same')\n",
    "    else:\n",
    "        y_smooth = np.convolve(y, box, mode='same')\n",
    "    return y_smooth"
   ]
  },
  {
   "cell_type": "code",
   "execution_count": 2,
   "metadata": {
    "collapsed": true
   },
   "outputs": [],
   "source": [
    "intercept = True #constant term in linear model\n",
    "M = 100            #number of runs\n",
    "fn_in = 'data/ihdp_npci_1-100.all.npz'\n",
    "save = False"
   ]
  },
  {
   "cell_type": "code",
   "execution_count": 3,
   "metadata": {
    "collapsed": true
   },
   "outputs": [],
   "source": [
    "params = IHDPParams(fn_in)"
   ]
  },
  {
   "cell_type": "code",
   "execution_count": 4,
   "metadata": {
    "collapsed": true
   },
   "outputs": [],
   "source": [
    "N = params.n       #number of timesteps\n",
    "k = 2           #number of arms\n",
    "d = params.d           #dimension of context (includes one dim for intercept term if present)\n",
    "delta = 1./N          #confidence level, adjusted for horizon"
   ]
  },
  {
   "cell_type": "markdown",
   "metadata": {},
   "source": [
    "## Look at the dataset"
   ]
  },
  {
   "cell_type": "code",
   "execution_count": 5,
   "metadata": {},
   "outputs": [
    {
     "data": {
      "text/plain": [
       "(747, 25, 100)"
      ]
     },
     "execution_count": 5,
     "metadata": {},
     "output_type": "execute_result"
    }
   ],
   "source": [
    "params.ctx.shape"
   ]
  },
  {
   "cell_type": "code",
   "execution_count": 6,
   "metadata": {},
   "outputs": [
    {
     "data": {
      "text/plain": [
       "array([[ 0.98668842,  0.99634625, -1.10562395,  2.24431956,  1.12129247,\n",
       "        -0.02970882,  1.        ,  0.        ,  1.        ,  1.        ,\n",
       "         0.        ,  0.        ,  1.        ,  1.        ,  0.        ,\n",
       "         1.        ,  0.        ,  1.        ,  0.        ,  0.        ,\n",
       "         0.        ,  0.        ,  0.        ,  0.        ,  1.        ],\n",
       "       [ 1.41901117,  1.79587438, -1.47798693,  0.16170253, -1.37939562,\n",
       "        -0.52655561,  0.        ,  0.        ,  0.        ,  1.        ,\n",
       "         0.        ,  0.        ,  1.        ,  1.        ,  0.        ,\n",
       "         1.        ,  0.        ,  1.        ,  0.        ,  1.        ,\n",
       "         0.        ,  0.        ,  0.        ,  0.        ,  0.        ],\n",
       "       [-1.06684465, -1.8020022 ,  1.12855393,  1.20301104,  0.68367206,\n",
       "         1.29521594,  0.        ,  0.        ,  1.        ,  0.        ,\n",
       "         0.        ,  1.        ,  1.        ,  1.        ,  0.        ,\n",
       "         1.        ,  1.        ,  1.        ,  0.        ,  1.        ,\n",
       "         0.        ,  0.        ,  0.        ,  0.        ,  0.        ],\n",
       "       [-1.75856105, -1.33969235,  0.38382797, -0.87960599, -0.94177521,\n",
       "        -0.85778679,  0.        ,  0.        ,  0.        ,  1.        ,\n",
       "         0.        ,  0.        ,  1.        ,  2.        ,  0.        ,\n",
       "         1.        ,  1.        ,  1.        ,  0.        ,  0.        ,\n",
       "         0.        ,  0.        ,  0.        ,  0.        ,  0.        ],\n",
       "       [-0.9803801 , -0.20294594,  0.75619095, -0.87960599,  0.80870646,\n",
       "         0.63275356,  1.        ,  0.        ,  1.        ,  0.        ,\n",
       "         0.        ,  0.        ,  1.        ,  2.        ,  0.        ,\n",
       "         1.        ,  1.        ,  1.        ,  0.        ,  0.        ,\n",
       "         1.        ,  0.        ,  0.        ,  0.        ,  0.        ],\n",
       "       [-0.87229941, -0.60271001,  0.38382797,  2.24431956,  0.62115485,\n",
       "         1.46083153,  0.        ,  0.        ,  1.        ,  0.        ,\n",
       "         1.        ,  0.        ,  0.        ,  1.        ,  0.        ,\n",
       "         1.        ,  1.        ,  1.        ,  1.        ,  0.        ,\n",
       "         0.        ,  0.        ,  0.        ,  0.        ,  0.        ],\n",
       "       [ 0.18689133,  0.59658219,  0.38382797, -0.87960599,  0.62115485,\n",
       "        -0.52655561,  1.        ,  0.        ,  0.        ,  0.        ,\n",
       "         0.        ,  1.        ,  0.        ,  2.        ,  0.        ,\n",
       "         1.        ,  0.        ,  1.        ,  0.        ,  1.        ,\n",
       "         0.        ,  0.        ,  0.        ,  0.        ,  0.        ],\n",
       "       [ 0.23012361,  0.99634625,  0.01146499,  0.16170253, -3.69253211,\n",
       "         1.29521594,  0.        ,  1.        ,  1.        ,  0.        ,\n",
       "         0.        ,  0.        ,  0.        ,  1.        ,  0.        ,\n",
       "         1.        ,  1.        ,  1.        ,  0.        ,  0.        ,\n",
       "         0.        ,  0.        ,  0.        ,  0.        ,  0.        ],\n",
       "       [ 0.12204292,  0.59658219, -0.73326097,  0.16170253,  0.99625807,\n",
       "        -0.36094001,  0.        ,  1.        ,  1.        ,  0.        ,\n",
       "         0.        ,  1.        ,  0.        ,  1.        ,  0.        ,\n",
       "         1.        ,  1.        ,  1.        ,  0.        ,  0.        ,\n",
       "         0.        ,  0.        ,  0.        ,  0.        ,  1.        ],\n",
       "       [ 0.40305271,  0.19681812,  0.01146499, -0.87960599,  1.7464645 ,\n",
       "        -1.35463358,  0.        ,  0.        ,  0.        ,  1.        ,\n",
       "         0.        ,  0.        ,  1.        ,  2.        ,  0.        ,\n",
       "         1.        ,  1.        ,  1.        ,  1.        ,  0.        ,\n",
       "         0.        ,  0.        ,  0.        ,  0.        ,  0.        ]])"
      ]
     },
     "execution_count": 6,
     "metadata": {},
     "output_type": "execute_result"
    }
   ],
   "source": [
    "params = IHDPParams(fn_in)\n",
    "params.ctx[0:10,:,0]"
   ]
  },
  {
   "cell_type": "markdown",
   "metadata": {},
   "source": [
    "## Run online learning algs"
   ]
  },
  {
   "cell_type": "code",
   "execution_count": 7,
   "metadata": {},
   "outputs": [
    {
     "name": "stdout",
     "output_type": "stream",
     "text": [
      "Run 1/100\n"
     ]
    },
    {
     "name": "stderr",
     "output_type": "stream",
     "text": [
      "lib/bandits.py:73: RuntimeWarning: invalid value encountered in sqrt\n",
      "  self.beta = lambda v: np.sqrt(self.lamd)*L + np.sqrt(np.log(np.linalg.det(v))-self.d*np.log(self.lamd)-2*np.log(delta))\n"
     ]
    },
    {
     "name": "stdout",
     "output_type": "stream",
     "text": [
      "Run 2/100\n",
      "Run 3/100\n",
      "Run 4/100\n",
      "Run 5/100\n",
      "Run 6/100\n",
      "Run 7/100\n",
      "Run 8/100\n",
      "Run 9/100\n",
      "Run 10/100\n",
      "Run 11/100\n",
      "Run 12/100\n",
      "Run 13/100\n",
      "Run 14/100\n",
      "Run 15/100\n",
      "Run 16/100\n",
      "Run 17/100\n",
      "Run 18/100\n",
      "Run 19/100\n",
      "Run 20/100\n",
      "Run 21/100\n",
      "Run 22/100\n",
      "Run 23/100\n",
      "Run 24/100\n",
      "Run 25/100\n",
      "Run 26/100\n",
      "Run 27/100\n",
      "Run 28/100\n",
      "Run 29/100\n",
      "Run 30/100\n",
      "Run 31/100\n",
      "Run 32/100\n",
      "Run 33/100\n",
      "Run 34/100\n",
      "Run 35/100\n",
      "Run 36/100\n",
      "Run 37/100\n",
      "Run 38/100\n",
      "Run 39/100\n",
      "Run 40/100\n",
      "Run 41/100\n",
      "Run 42/100\n",
      "Run 43/100\n",
      "Run 44/100\n",
      "Run 45/100\n",
      "Run 46/100\n",
      "Run 47/100\n",
      "Run 48/100\n",
      "Run 49/100\n",
      "Run 50/100\n",
      "Run 51/100\n",
      "Run 52/100\n",
      "Run 53/100\n",
      "Run 54/100\n",
      "Run 55/100\n",
      "Run 56/100\n",
      "Run 57/100\n",
      "Run 58/100\n",
      "Run 59/100\n",
      "Run 60/100\n",
      "Run 61/100\n",
      "Run 62/100\n",
      "Run 63/100\n",
      "Run 64/100\n",
      "Run 65/100\n",
      "Run 66/100\n",
      "Run 67/100\n",
      "Run 68/100\n",
      "Run 69/100\n",
      "Run 70/100\n",
      "Run 71/100\n",
      "Run 72/100\n",
      "Run 73/100\n",
      "Run 74/100\n",
      "Run 75/100\n",
      "Run 76/100\n",
      "Run 77/100\n",
      "Run 78/100\n",
      "Run 79/100\n",
      "Run 80/100\n",
      "Run 81/100\n",
      "Run 82/100\n",
      "Run 83/100\n",
      "Run 84/100\n",
      "Run 85/100\n",
      "Run 86/100\n",
      "Run 87/100\n",
      "Run 88/100\n",
      "Run 89/100\n",
      "Run 90/100\n",
      "Run 91/100\n",
      "Run 92/100\n",
      "Run 93/100\n",
      "Run 94/100\n",
      "Run 95/100\n",
      "Run 96/100\n",
      "Run 97/100\n",
      "Run 98/100\n",
      "Run 99/100\n",
      "Run 100/100\n"
     ]
    }
   ],
   "source": [
    "regret_ucb = np.zeros((M,N))\n",
    "for j in range(M):\n",
    "    print(\"Run %d/%d\"%(j+1,M))\n",
    "    params = IHDPParams(fn_in)\n",
    "    generator = IHDPGenerator(params)\n",
    "    linucb = LinUCB(generator, delta, n_pulls=N)\n",
    "    for i in range(N):\n",
    "        (ctx, arm_idx, obs, reg) = linucb.step()\n",
    "        regret_ucb[j,i] = reg"
   ]
  },
  {
   "cell_type": "code",
   "execution_count": 8,
   "metadata": {},
   "outputs": [
    {
     "name": "stdout",
     "output_type": "stream",
     "text": [
      "Run 1/100\n",
      "Run 2/100\n",
      "Run 3/100\n",
      "Run 4/100\n",
      "Run 5/100\n",
      "Run 6/100\n",
      "Run 7/100\n",
      "Run 8/100\n",
      "Run 9/100\n",
      "Run 10/100\n",
      "Run 11/100\n",
      "Run 12/100\n",
      "Run 13/100\n",
      "Run 14/100\n",
      "Run 15/100\n",
      "Run 16/100\n",
      "Run 17/100\n",
      "Run 18/100\n",
      "Run 19/100\n",
      "Run 20/100\n",
      "Run 21/100\n",
      "Run 22/100\n",
      "Run 23/100\n",
      "Run 24/100\n",
      "Run 25/100\n",
      "Run 26/100\n",
      "Run 27/100\n",
      "Run 28/100\n",
      "Run 29/100\n",
      "Run 30/100\n",
      "Run 31/100\n",
      "Run 32/100\n",
      "Run 33/100\n",
      "Run 34/100\n",
      "Run 35/100\n",
      "Run 36/100\n",
      "Run 37/100\n",
      "Run 38/100\n",
      "Run 39/100\n",
      "Run 40/100\n",
      "Run 41/100\n",
      "Run 42/100\n",
      "Run 43/100\n",
      "Run 44/100\n",
      "Run 45/100\n",
      "Run 46/100\n",
      "Run 47/100\n",
      "Run 48/100\n",
      "Run 49/100\n",
      "Run 50/100\n",
      "Run 51/100\n",
      "Run 52/100\n",
      "Run 53/100\n",
      "Run 54/100\n",
      "Run 55/100\n",
      "Run 56/100\n",
      "Run 57/100\n",
      "Run 58/100\n",
      "Run 59/100\n",
      "Run 60/100\n",
      "Run 61/100\n",
      "Run 62/100\n",
      "Run 63/100\n",
      "Run 64/100\n",
      "Run 65/100\n",
      "Run 66/100\n",
      "Run 67/100\n",
      "Run 68/100\n",
      "Run 69/100\n",
      "Run 70/100\n",
      "Run 71/100\n",
      "Run 72/100\n",
      "Run 73/100\n",
      "Run 74/100\n",
      "Run 75/100\n",
      "Run 76/100\n",
      "Run 77/100\n",
      "Run 78/100\n",
      "Run 79/100\n",
      "Run 80/100\n",
      "Run 81/100\n",
      "Run 82/100\n",
      "Run 83/100\n",
      "Run 84/100\n",
      "Run 85/100\n",
      "Run 86/100\n",
      "Run 87/100\n",
      "Run 88/100\n",
      "Run 89/100\n",
      "Run 90/100\n",
      "Run 91/100\n",
      "Run 92/100\n",
      "Run 93/100\n",
      "Run 94/100\n",
      "Run 95/100\n",
      "Run 96/100\n",
      "Run 97/100\n",
      "Run 98/100\n",
      "Run 99/100\n",
      "Run 100/100\n"
     ]
    }
   ],
   "source": [
    "regret_thr = np.zeros((M,N))\n",
    "for j in range(M):\n",
    "    print(\"Run %d/%d\"%(j+1,M))\n",
    "    params = IHDPParams(fn_in)\n",
    "    generator = IHDPGenerator(params)\n",
    "    thresholdbandit = ThresholdBandit(generator, delta, n_pulls = N)\n",
    "    for i in range(N):\n",
    "        (ctx, arm_idx, obs, reg) = thresholdbandit.step()\n",
    "        regret_thr[j,i] = reg"
   ]
  },
  {
   "cell_type": "code",
   "execution_count": 9,
   "metadata": {},
   "outputs": [
    {
     "name": "stdout",
     "output_type": "stream",
     "text": [
      "Run 1/100\n",
      "Run 2/100\n",
      "Run 3/100\n",
      "Run 4/100\n",
      "Run 5/100\n",
      "Run 6/100\n",
      "Run 7/100\n",
      "Run 8/100\n",
      "Run 9/100\n",
      "Run 10/100\n",
      "Run 11/100\n",
      "Run 12/100\n",
      "Run 13/100\n",
      "Run 14/100\n",
      "Run 15/100\n",
      "Run 16/100\n",
      "Run 17/100\n",
      "Run 18/100\n",
      "Run 19/100\n",
      "Run 20/100\n",
      "Run 21/100\n",
      "Run 22/100\n",
      "Run 23/100\n",
      "Run 24/100\n",
      "Run 25/100\n",
      "Run 26/100\n",
      "Run 27/100\n",
      "Run 28/100\n",
      "Run 29/100\n",
      "Run 30/100\n",
      "Run 31/100\n",
      "Run 32/100\n",
      "Run 33/100\n",
      "Run 34/100\n",
      "Run 35/100\n",
      "Run 36/100\n",
      "Run 37/100\n",
      "Run 38/100\n",
      "Run 39/100\n",
      "Run 40/100\n",
      "Run 41/100\n",
      "Run 42/100\n",
      "Run 43/100\n",
      "Run 44/100\n",
      "Run 45/100\n",
      "Run 46/100\n",
      "Run 47/100\n",
      "Run 48/100\n",
      "Run 49/100\n",
      "Run 50/100\n",
      "Run 51/100\n",
      "Run 52/100\n",
      "Run 53/100\n",
      "Run 54/100\n",
      "Run 55/100\n",
      "Run 56/100\n",
      "Run 57/100\n",
      "Run 58/100\n",
      "Run 59/100\n",
      "Run 60/100\n",
      "Run 61/100\n",
      "Run 62/100\n",
      "Run 63/100\n",
      "Run 64/100\n",
      "Run 65/100\n",
      "Run 66/100\n",
      "Run 67/100\n",
      "Run 68/100\n",
      "Run 69/100\n",
      "Run 70/100\n",
      "Run 71/100\n",
      "Run 72/100\n",
      "Run 73/100\n",
      "Run 74/100\n",
      "Run 75/100\n",
      "Run 76/100\n",
      "Run 77/100\n",
      "Run 78/100\n",
      "Run 79/100\n",
      "Run 80/100\n",
      "Run 81/100\n",
      "Run 82/100\n",
      "Run 83/100\n",
      "Run 84/100\n",
      "Run 85/100\n",
      "Run 86/100\n",
      "Run 87/100\n",
      "Run 88/100\n",
      "Run 89/100\n",
      "Run 90/100\n",
      "Run 91/100\n",
      "Run 92/100\n",
      "Run 93/100\n",
      "Run 94/100\n",
      "Run 95/100\n",
      "Run 96/100\n",
      "Run 97/100\n",
      "Run 98/100\n",
      "Run 99/100\n",
      "Run 100/100\n"
     ]
    }
   ],
   "source": [
    "regret_conthr = np.zeros((M,N))\n",
    "for j in range(M):\n",
    "    print(\"Run %d/%d\"%(j+1,M))\n",
    "    params = IHDPParams(fn_in)\n",
    "    generator = IHDPGenerator(params)\n",
    "    thresholdbandit = ThresholdConsBandit(generator, delta, n_pulls = N)\n",
    "    for i in range(N):\n",
    "        (ctx, arm_idx, obs, reg) = thresholdbandit.step()\n",
    "        regret_conthr[j,i] = reg"
   ]
  },
  {
   "cell_type": "code",
   "execution_count": 10,
   "metadata": {},
   "outputs": [
    {
     "name": "stdout",
     "output_type": "stream",
     "text": [
      "Run 1/100\n",
      "Run 2/100\n",
      "Run 3/100\n",
      "Run 4/100\n",
      "Run 5/100\n",
      "Run 6/100\n",
      "Run 7/100\n",
      "Run 8/100\n",
      "Run 9/100\n",
      "Run 10/100\n",
      "Run 11/100\n",
      "Run 12/100\n",
      "Run 13/100\n",
      "Run 14/100\n",
      "Run 15/100\n",
      "Run 16/100\n",
      "Run 17/100\n",
      "Run 18/100\n",
      "Run 19/100\n",
      "Run 20/100\n",
      "Run 21/100\n",
      "Run 22/100\n",
      "Run 23/100\n",
      "Run 24/100\n",
      "Run 25/100\n",
      "Run 26/100\n",
      "Run 27/100\n",
      "Run 28/100\n",
      "Run 29/100\n",
      "Run 30/100\n",
      "Run 31/100\n",
      "Run 32/100\n",
      "Run 33/100\n",
      "Run 34/100\n",
      "Run 35/100\n",
      "Run 36/100\n",
      "Run 37/100\n",
      "Run 38/100\n",
      "Run 39/100\n",
      "Run 40/100\n",
      "Run 41/100\n",
      "Run 42/100\n",
      "Run 43/100\n",
      "Run 44/100\n",
      "Run 45/100\n",
      "Run 46/100\n",
      "Run 47/100\n",
      "Run 48/100\n",
      "Run 49/100\n",
      "Run 50/100\n",
      "Run 51/100\n",
      "Run 52/100\n",
      "Run 53/100\n",
      "Run 54/100\n",
      "Run 55/100\n",
      "Run 56/100\n",
      "Run 57/100\n",
      "Run 58/100\n",
      "Run 59/100\n",
      "Run 60/100\n",
      "Run 61/100\n",
      "Run 62/100\n",
      "Run 63/100\n",
      "Run 64/100\n",
      "Run 65/100\n",
      "Run 66/100\n",
      "Run 67/100\n",
      "Run 68/100\n",
      "Run 69/100\n",
      "Run 70/100\n",
      "Run 71/100\n",
      "Run 72/100\n",
      "Run 73/100\n",
      "Run 74/100\n",
      "Run 75/100\n",
      "Run 76/100\n",
      "Run 77/100\n",
      "Run 78/100\n",
      "Run 79/100\n",
      "Run 80/100\n",
      "Run 81/100\n",
      "Run 82/100\n",
      "Run 83/100\n",
      "Run 84/100\n",
      "Run 85/100\n",
      "Run 86/100\n",
      "Run 87/100\n",
      "Run 88/100\n",
      "Run 89/100\n",
      "Run 90/100\n",
      "Run 91/100\n",
      "Run 92/100\n",
      "Run 93/100\n",
      "Run 94/100\n",
      "Run 95/100\n",
      "Run 96/100\n",
      "Run 97/100\n",
      "Run 98/100\n",
      "Run 99/100\n",
      "Run 100/100\n"
     ]
    }
   ],
   "source": [
    "regret_gre = np.zeros((M,N))\n",
    "for j in range(M):\n",
    "    print(\"Run %d/%d\"%(j+1,M))\n",
    "    params = IHDPParams(fn_in)\n",
    "    generator = IHDPGenerator(params)\n",
    "    thresholdbandit = GreedyBandit(generator, delta, n_pulls = N)\n",
    "    for i in range(N):\n",
    "        (ctx, arm_idx, obs, reg) = thresholdbandit.step()\n",
    "        regret_gre[j,i] = reg"
   ]
  },
  {
   "cell_type": "markdown",
   "metadata": {},
   "source": [
    "## The oracle"
   ]
  },
  {
   "cell_type": "code",
   "execution_count": 11,
   "metadata": {
    "collapsed": true
   },
   "outputs": [],
   "source": [
    "#Fit least squares with all the data\n",
    "\n",
    "#Predict "
   ]
  },
  {
   "cell_type": "markdown",
   "metadata": {},
   "source": [
    "## The regret"
   ]
  },
  {
   "cell_type": "code",
   "execution_count": 12,
   "metadata": {},
   "outputs": [
    {
     "data": {
      "image/png": "[encoded data removed]",
      "text/plain": [
       "<matplotlib.figure.Figure at 0x7f8588db09d0>"
      ]
     },
     "metadata": {},
     "output_type": "display_data"
    }
   ],
   "source": [
    "sns.tsplot(regret_ucb, color = 'red')\n",
    "sns.tsplot(regret_thr, color = 'green')\n",
    "sns.tsplot(regret_conthr, color = 'blue')\n",
    "sns.tsplot(regret_gre, color = 'purple')\n",
    "\n",
    "plt.legend(['LinUCB', 'Threshold greedy', 'Threshold conservative', 'Greedy'])\n",
    "plt.xlabel('round')\n",
    "plt.ylabel('regret')\n",
    "sns.despine(trim = True)"
   ]
  },
  {
   "cell_type": "code",
   "execution_count": null,
   "metadata": {
    "collapsed": true
   },
   "outputs": [],
   "source": []
  }
 ],
 "metadata": {
  "kernelspec": {
   "display_name": "Python [conda env:py34]",
   "language": "python",
   "name": "conda-env-py34-py"
  },
  "language_info": {
   "codemirror_mode": {
    "name": "ipython",
    "version": 3
   },
   "file_extension": ".py",
   "mimetype": "text/x-python",
   "name": "python",
   "nbconvert_exporter": "python",
   "pygments_lexer": "ipython3",
   "version": "3.6.6"
  }
 },
 "nbformat": 4,
 "nbformat_minor": 2
}
