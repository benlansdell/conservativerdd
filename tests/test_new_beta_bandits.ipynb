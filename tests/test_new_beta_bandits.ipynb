{
 "cells": [
  {
   "cell_type": "markdown",
   "metadata": {},
   "source": [
    "### Test bandits with new beta"
   ]
  },
  {
   "cell_type": "code",
   "execution_count": 17,
   "metadata": {},
   "outputs": [
    {
     "name": "stdout",
     "output_type": "stream",
     "text": [
      "Populating the interactive namespace from numpy and matplotlib\n",
      "/home/lansdell/projects/conservativerdd\n"
     ]
    },
    {
     "name": "stderr",
     "output_type": "stream",
     "text": [
      "/usr/local/lib/python2.7/dist-packages/IPython/core/magics/pylab.py:161: UserWarning: pylab import has clobbered these variables: ['save']\n",
      "`%matplotlib` prevents importing * from pylab and numpy\n",
      "  \"\\n`%matplotlib` prevents importing * from pylab and numpy\"\n"
     ]
    }
   ],
   "source": [
    "%pylab inline\n",
    "%cd /home/lansdell/projects/conservativerdd\n",
    "pylab.rcParams['figure.figsize'] = (6, 6)\n",
    "\n",
    "from lib.bandits import LinUCB, ThresholdBandit,ThresholdConsBandit, GreedyBandit, ThresholdMaxConsBandit, \\\n",
    "               ThresholdMaxConsGreedyBandit ,ThresholdBaselineBandit, ConsLinUCB, expected_regret, expected_regret_per_arm\n",
    "from lib.generator import LinearGeneratorParams, LinearGenerator\n",
    "import numpy as np \n",
    "\n",
    "import matplotlib.pyplot as plt\n",
    "from scipy.stats import truncnorm\n",
    "import seaborn as sns\n",
    "sns.set_style('ticks')"
   ]
  },
  {
   "cell_type": "code",
   "execution_count": 2,
   "metadata": {
    "collapsed": true
   },
   "outputs": [],
   "source": [
    "#alg = 'greedy'\n",
    "#alg = 'linucb'\n",
    "#alg = 'threshold'\n",
    "#alg = 'thresholdcons'\n",
    "#alg = 'conslinucb'\n",
    "alg = 'thrbaseline'\n",
    "\n",
    "M = 3    #number of runs\n",
    "N = 10000 #number of timesteps\n",
    "save = False\n",
    "max_alpha = 2\n",
    "max_beta = 2\n",
    "k = 4    #Number of arms\n",
    "d = 5   #Dimension of context (includes one dim for intercept term)\n",
    "intercept = True\n",
    "evaluate_every = 100\n",
    "\n",
    "if alg == 'greedy':\n",
    "\tBanditAlg = GreedyBandit\n",
    "elif alg == 'linucb':\n",
    "\tBanditAlg = LinUCB\n",
    "elif alg == 'threshold':\n",
    "\tBanditAlg = ThresholdBandit\n",
    "elif alg == 'thresholdcons':\n",
    "\tBanditAlg = ThresholdConsBandit\n",
    "elif alg == 'conslinucb':\n",
    "\tBanditAlg = ConsLinUCB\n",
    "elif alg == 'thrbaseline':\n",
    "\tBanditAlg = ThresholdBaselineBandit\n",
    "else:\n",
    "\tprint \"Select a valid algorithm\""
   ]
  },
  {
   "cell_type": "markdown",
   "metadata": {},
   "source": [
    "## Run baseline bandit "
   ]
  },
  {
   "cell_type": "code",
   "execution_count": 3,
   "metadata": {
    "collapsed": true
   },
   "outputs": [],
   "source": [
    "#Generate slopes and intercepts\n",
    "alphas = truncnorm.rvs(-max_alpha, max_alpha, scale = 1, size=(M,k,d-1))\n",
    "betas = truncnorm.rvs(-max_beta, max_beta, scale = 1, size=(M,k))\n",
    "\n",
    "baseline_params = truncnorm.rvs(-max_alpha, max_alpha, scale = 1, size=(M,k,d))\n",
    "\n",
    "regret = np.zeros((M, N))\n",
    "expt_regret = np.zeros((M, N))\n",
    "arm_pulls = np.zeros((M, N, k+1))\n",
    "n_changes = np.zeros((M, N))\n",
    "update_pol = np.zeros((M, N))"
   ]
  },
  {
   "cell_type": "code",
   "execution_count": 4,
   "metadata": {},
   "outputs": [
    {
     "name": "stdout",
     "output_type": "stream",
     "text": [
      "Running thrbaseline algorithm\n",
      "Run: 1/3\n",
      "Run: 2/3\n",
      "Run: 3/3\n"
     ]
    }
   ],
   "source": [
    "print(\"Running %s algorithm\"%alg)\n",
    "BanditAlg = ThresholdBaselineBandit\n",
    "\n",
    "for m in range(M):\n",
    "    params = LinearGeneratorParams(np.atleast_2d(alphas[m,:,:]), betas[m,:], d = d, k = k, intercept = intercept)\n",
    "    generator = LinearGenerator(params)\n",
    "    bandit = BanditAlg(generator, baseline_params[m,:,:], delta = 1./N)\n",
    "    print(\"Run: %d/%d\"%(m+1,M))\n",
    "    for i in range(N):\n",
    "        (ctx, arm_idx, obs, r) = bandit.step()\n",
    "        #print(ctx, arm_idx)\n",
    "        regret[m,i] = r\n",
    "        if arm_idx >= 0:\n",
    "            arm_pulls[m,i,arm_idx] = 1\n",
    "        else:\n",
    "            arm_pulls[m,i,k] = 1\n",
    "    update_pol[m,:] = bandit.update_theta "
   ]
  },
  {
   "cell_type": "markdown",
   "metadata": {},
   "source": [
    "## LinUCB for comparison"
   ]
  },
  {
   "cell_type": "code",
   "execution_count": 5,
   "metadata": {
    "collapsed": true
   },
   "outputs": [],
   "source": [
    "BanditAlg = LinUCB    \n",
    "regret_linucb = np.zeros((M, N))\n",
    "arm_pulls_linucb = np.zeros((M, N, k+1))\n",
    "update_pol_linucb = np.zeros((M, N))"
   ]
  },
  {
   "cell_type": "code",
   "execution_count": 6,
   "metadata": {},
   "outputs": [
    {
     "name": "stdout",
     "output_type": "stream",
     "text": [
      "Run: 1/3\n",
      "Run: 2/3\n",
      "Run: 3/3\n"
     ]
    }
   ],
   "source": [
    "for m in range(M):\n",
    "    params = LinearGeneratorParams(np.atleast_2d(alphas[m,:,:]), betas[m,:], d = d, k = k, intercept = intercept)\n",
    "    generator = LinearGenerator(params)\n",
    "    bandit = BanditAlg(generator)\n",
    "    print(\"Run: %d/%d\"%(m+1,M))\n",
    "    for i in range(N):\n",
    "        (ctx, arm_idx, obs, r) = bandit.step()\n",
    "        #print(ctx, arm_idx)\n",
    "        regret_linucb[m,i] = r\n",
    "        if arm_idx >= 0:\n",
    "            arm_pulls_linucb[m,i,arm_idx] = 1\n",
    "        else:\n",
    "            arm_pulls_linucb[m,i,k] = 1\n",
    "    #update_pol_linucb[m,:] = bandit.update_theta "
   ]
  },
  {
   "cell_type": "markdown",
   "metadata": {},
   "source": [
    "## ConsLinUCB for comparison"
   ]
  },
  {
   "cell_type": "code",
   "execution_count": 7,
   "metadata": {
    "collapsed": true
   },
   "outputs": [],
   "source": [
    "BanditAlg = ConsLinUCB    \n",
    "regret_clinucb = np.zeros((M, N))\n",
    "arm_pulls_linucb = np.zeros((M, N, k+1))\n",
    "update_pol_linucb = np.zeros((M, N))\n",
    "alpha = 0.1"
   ]
  },
  {
   "cell_type": "code",
   "execution_count": 8,
   "metadata": {},
   "outputs": [
    {
     "name": "stdout",
     "output_type": "stream",
     "text": [
      "Run: 1/3\n",
      "Run: 2/3\n",
      "Run: 3/3\n"
     ]
    }
   ],
   "source": [
    "for m in range(M):\n",
    "    params = LinearGeneratorParams(np.atleast_2d(alphas[m,:,:]), betas[m,:], d = d, k = k, intercept = intercept)\n",
    "    generator = LinearGenerator(params)\n",
    "    means = expected_regret_per_arm(generator)\n",
    "    #Choose the baseline arm as the worst arm....\n",
    "    m_idx = np.argmin(means)\n",
    "    base_alpha = alphas[m,m_idx,:]\n",
    "    base_beta = betas[m,m_idx]\n",
    "    bandit = BanditAlg(generator, (base_alpha, base_beta), alpha = alpha)\n",
    "    \n",
    "    print(\"Run: %d/%d\"%(m+1,M))\n",
    "    for i in range(N):\n",
    "        (ctx, arm_idx, obs, r) = bandit.step()\n",
    "        #print(ctx, arm_idx)\n",
    "        regret_clinucb[m,i] = r\n",
    "        if arm_idx >= 0:\n",
    "            arm_pulls_linucb[m,i,arm_idx] = 1\n",
    "        else:\n",
    "            arm_pulls_linucb[m,i,k] = 1\n",
    "    #update_pol_linucb[m,:] = bandit.update_theta "
   ]
  },
  {
   "cell_type": "markdown",
   "metadata": {},
   "source": [
    "## Threshold greedy for comparison"
   ]
  },
  {
   "cell_type": "code",
   "execution_count": 9,
   "metadata": {
    "collapsed": true
   },
   "outputs": [],
   "source": [
    "BanditAlg = ThresholdBandit    \n",
    "regret_thrgre = np.zeros((M, N))\n",
    "arm_pulls_thrgre = np.zeros((M, N, k+1))\n",
    "update_pol_thrgre = np.zeros((M, N))"
   ]
  },
  {
   "cell_type": "code",
   "execution_count": 10,
   "metadata": {},
   "outputs": [
    {
     "name": "stdout",
     "output_type": "stream",
     "text": [
      "Run: 1/3\n",
      "Run: 2/3\n",
      "Run: 3/3\n"
     ]
    }
   ],
   "source": [
    "for m in range(M):\n",
    "    params = LinearGeneratorParams(np.atleast_2d(alphas[m,:,:]), betas[m,:], d = d, k = k, intercept = intercept)\n",
    "    generator = LinearGenerator(params)\n",
    "    bandit = BanditAlg(generator)\n",
    "    print(\"Run: %d/%d\"%(m+1,M))\n",
    "    for i in range(N):\n",
    "        (ctx, arm_idx, obs, r) = bandit.step()\n",
    "        #print(ctx, arm_idx)\n",
    "        regret_thrgre[m,i] = r\n",
    "        if arm_idx >= 0:\n",
    "            arm_pulls_thrgre[m,i,arm_idx] = 1\n",
    "        else:\n",
    "            arm_pulls_thrgre[m,i,k] = 1\n",
    "    update_pol_thrgre[m,:] = bandit.update_theta "
   ]
  },
  {
   "cell_type": "markdown",
   "metadata": {},
   "source": [
    "## Threshold conservative for comparison"
   ]
  },
  {
   "cell_type": "code",
   "execution_count": 11,
   "metadata": {},
   "outputs": [],
   "source": [
    "BanditAlg = ThresholdConsBandit    \n",
    "regret_thrcons = np.zeros((M, N))\n",
    "arm_pulls_thrcons = np.zeros((M, N, k+1))\n",
    "update_pol_thrcons = np.zeros((M, N))"
   ]
  },
  {
   "cell_type": "code",
   "execution_count": 12,
   "metadata": {
    "scrolled": true
   },
   "outputs": [
    {
     "name": "stdout",
     "output_type": "stream",
     "text": [
      "Run: 1/3\n",
      "Run: 2/3\n",
      "Run: 3/3\n"
     ]
    }
   ],
   "source": [
    "for m in range(M):\n",
    "    params = LinearGeneratorParams(np.atleast_2d(alphas[m,:,:]), betas[m,:], d = d, k = k, intercept = intercept)\n",
    "    generator = LinearGenerator(params)\n",
    "    bandit = BanditAlg(generator)\n",
    "    print(\"Run: %d/%d\"%(m+1,M))\n",
    "    for i in range(N):\n",
    "        (ctx, arm_idx, obs, r) = bandit.step()\n",
    "        #print(ctx, arm_idx)\n",
    "        regret_thrcons[m,i] = r\n",
    "        if arm_idx >= 0:\n",
    "            arm_pulls_thrgre[m,i,arm_idx] = 1\n",
    "        else:\n",
    "            arm_pulls_thrgre[m,i,k] = 1\n",
    "    update_pol_thrcons[m,:] = bandit.update_theta "
   ]
  },
  {
   "cell_type": "markdown",
   "metadata": {},
   "source": [
    "## Max con greedy for comparison"
   ]
  },
  {
   "cell_type": "code",
   "execution_count": 18,
   "metadata": {
    "collapsed": true
   },
   "outputs": [],
   "source": [
    "BanditAlg = ThresholdMaxConsGreedyBandit    \n",
    "regret_thrgre = np.zeros((M, N))\n",
    "arm_pulls_thrgre = np.zeros((M, N, k+1))\n",
    "update_pol_thrgre = np.zeros((M, N))"
   ]
  },
  {
   "cell_type": "code",
   "execution_count": 19,
   "metadata": {},
   "outputs": [
    {
     "name": "stdout",
     "output_type": "stream",
     "text": [
      "Run: 1/3\n",
      "Updating theta_tilde\n",
      "Updating theta_tilde\n",
      "Updating theta_tilde\n",
      "Updating theta_tilde\n",
      "Run: 2/3\n",
      "Updating theta_tilde\n",
      "Updating theta_tilde\n",
      "Updating theta_tilde\n",
      "Updating theta_tilde\n",
      "Updating theta_tilde\n",
      "Updating theta_tilde\n",
      "Updating theta_tilde\n",
      "Run: 3/3\n",
      "Updating theta_tilde\n",
      "Updating theta_tilde\n",
      "Updating theta_tilde\n",
      "Updating theta_tilde\n",
      "Updating theta_tilde\n",
      "Updating theta_tilde\n",
      "Updating theta_tilde\n",
      "Updating theta_tilde\n",
      "Updating theta_tilde\n"
     ]
    }
   ],
   "source": [
    "for m in range(M):\n",
    "    params = LinearGeneratorParams(np.atleast_2d(alphas[m,:,:]), betas[m,:], d = d, k = k, intercept = intercept)\n",
    "    generator = LinearGenerator(params)\n",
    "    bandit = BanditAlg(generator)\n",
    "    print(\"Run: %d/%d\"%(m+1,M))\n",
    "    for i in range(N):\n",
    "        (ctx, arm_idx, obs, r) = bandit.step()\n",
    "        #print(ctx, arm_idx)\n",
    "        regret_thrgre[m,i] = r\n",
    "        if arm_idx >= 0:\n",
    "            arm_pulls_thrgre[m,i,arm_idx] = 1\n",
    "        else:\n",
    "            arm_pulls_thrgre[m,i,k] = 1\n",
    "    update_pol_thrgre[m,:] = bandit.update_theta "
   ]
  },
  {
   "cell_type": "markdown",
   "metadata": {},
   "source": [
    "## Max con for comparison"
   ]
  },
  {
   "cell_type": "code",
   "execution_count": 20,
   "metadata": {
    "collapsed": true
   },
   "outputs": [],
   "source": [
    "BanditAlg = ThresholdMaxConsBandit    \n",
    "regret_thrcons = np.zeros((M, N))\n",
    "arm_pulls_thrcons = np.zeros((M, N, k+1))\n",
    "update_pol_thrcons = np.zeros((M, N))"
   ]
  },
  {
   "cell_type": "code",
   "execution_count": 21,
   "metadata": {
    "scrolled": true
   },
   "outputs": [
    {
     "name": "stdout",
     "output_type": "stream",
     "text": [
      "Run: 1/3\n",
      "Updating theta_tilde\n",
      "Updating theta_tilde\n",
      "Updating theta_tilde\n",
      "Updating theta_tilde\n",
      "Updating theta_tilde\n",
      "Updating theta_tilde\n",
      "Run: 2/3\n",
      "Updating theta_tilde\n",
      "Updating theta_tilde\n",
      "Updating theta_tilde\n",
      "Updating theta_tilde\n",
      "Updating theta_tilde\n",
      "Updating theta_tilde\n",
      "Updating theta_tilde\n",
      "Updating theta_tilde\n",
      "Updating theta_tilde\n",
      "Updating theta_tilde\n",
      "Updating theta_tilde\n",
      "Updating theta_tilde\n",
      "Updating theta_tilde\n",
      "Updating theta_tilde\n",
      "Updating theta_tilde\n",
      "Updating theta_tilde\n",
      "Run: 3/3\n",
      "Updating theta_tilde\n",
      "Updating theta_tilde\n",
      "Updating theta_tilde\n",
      "Updating theta_tilde\n",
      "Updating theta_tilde\n",
      "Updating theta_tilde\n",
      "Updating theta_tilde\n",
      "Updating theta_tilde\n",
      "Updating theta_tilde\n",
      "Updating theta_tilde\n",
      "Updating theta_tilde\n",
      "Updating theta_tilde\n",
      "Updating theta_tilde\n",
      "Updating theta_tilde\n",
      "Updating theta_tilde\n",
      "Updating theta_tilde\n"
     ]
    }
   ],
   "source": [
    "for m in range(M):\n",
    "    params = LinearGeneratorParams(np.atleast_2d(alphas[m,:,:]), betas[m,:], d = d, k = k, intercept = intercept)\n",
    "    generator = LinearGenerator(params)\n",
    "    bandit = BanditAlg(generator)\n",
    "    print(\"Run: %d/%d\"%(m+1,M))\n",
    "    for i in range(N):\n",
    "        (ctx, arm_idx, obs, r) = bandit.step()\n",
    "        #print(ctx, arm_idx)\n",
    "        regret_thrcons[m,i] = r\n",
    "        if arm_idx >= 0:\n",
    "            arm_pulls_thrgre[m,i,arm_idx] = 1\n",
    "        else:\n",
    "            arm_pulls_thrgre[m,i,k] = 1\n",
    "    update_pol_thrcons[m,:] = bandit.update_theta "
   ]
  },
  {
   "cell_type": "markdown",
   "metadata": {
    "collapsed": true
   },
   "source": [
    "## Comparison of the methods"
   ]
  },
  {
   "cell_type": "markdown",
   "metadata": {},
   "source": [
    "Trade-off between convergence rate, risk, and confidence level"
   ]
  },
  {
   "cell_type": "code",
   "execution_count": 16,
   "metadata": {},
   "outputs": [
    {
     "data": {
      "image/png": "[encoded data removed]",
      "text/plain": [
       "<matplotlib.figure.Figure at 0x7fac293c6510>"
      ]
     },
     "metadata": {},
     "output_type": "display_data"
    }
   ],
   "source": [
    "#Vary the confidence level, plot convergence rate, regret, risk\n",
    "#sns.tsplot(np.cumsum(regret, axis = 1), color = 'red')\n",
    "sns.tsplot(np.cumsum(regret_linucb, axis = 1), color = 'blue')\n",
    "sns.tsplot(np.cumsum(regret_thrgre, axis = 1), color = 'green')\n",
    "sns.tsplot(np.cumsum(regret_thrcons, axis = 1), color = 'orange')\n",
    "sns.tsplot(np.cumsum(regret_clinucb, axis = 1), color = 'black')\n",
    "plt.xlabel('round')\n",
    "plt.ylabel('cumulative regret')\n",
    "plt.yscale('log')\n",
    "#plt.legend(['BaselineBandit', 'LinUCB', 'Threshold greedy', 'Thresh cons'])\n",
    "plt.legend(['LinUCB', 'Threshold greedy', 'Thresh cons', 'CLUCB'])\n",
    "sns.despine(trim = True)"
   ]
  },
  {
   "cell_type": "code",
   "execution_count": 14,
   "metadata": {},
   "outputs": [
    {
     "data": {
      "image/png": "[encoded data removed]",
      "text/plain": [
       "<matplotlib.figure.Figure at 0x7fac29556610>"
      ]
     },
     "metadata": {},
     "output_type": "display_data"
    }
   ],
   "source": [
    "#Vary the confidence level, plot convergence rate, regret, risk\n",
    "sns.tsplot(np.cumsum(update_pol, axis = 1), color = 'red')\n",
    "sns.tsplot(np.cumsum(update_pol_thrgre, axis = 1), color = 'green')\n",
    "sns.tsplot(np.cumsum(update_pol_thrcons, axis = 1), color = 'orange')\n",
    "plt.xlabel('round')\n",
    "plt.ylabel('cumulative policy changes')\n",
    "plt.yscale('log')\n",
    "plt.legend(['BaselineBandit', 'Threshold greedy', 'Thresh cons'])\n",
    "sns.despine(trim = True)"
   ]
  },
  {
   "cell_type": "code",
   "execution_count": null,
   "metadata": {
    "collapsed": true
   },
   "outputs": [],
   "source": []
  }
 ],
 "metadata": {
  "kernelspec": {
   "display_name": "Python 2",
   "language": "python",
   "name": "python2"
  },
  "language_info": {
   "codemirror_mode": {
    "name": "ipython",
    "version": 2
   },
   "file_extension": ".py",
   "mimetype": "text/x-python",
   "name": "python",
   "nbconvert_exporter": "python",
   "pygments_lexer": "ipython2",
   "version": "2.7.12"
  }
 },
 "nbformat": 4,
 "nbformat_minor": 2
}
