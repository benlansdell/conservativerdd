{
 "cells": [
  {
   "cell_type": "markdown",
   "metadata": {},
   "source": [
    "### Test LinUCB, ThresholdBandit and GreedyBandit"
   ]
  },
  {
   "cell_type": "code",
   "execution_count": 1,
   "metadata": {},
   "outputs": [
    {
     "name": "stdout",
     "output_type": "stream",
     "text": [
      "Populating the interactive namespace from numpy and matplotlib\n"
     ]
    },
    {
     "name": "stderr",
     "output_type": "stream",
     "text": [
      "/usr/local/lib/python2.7/dist-packages/pandas/core/computation/__init__.py:18: UserWarning: The installed version of numexpr 2.4.3 is not supported in pandas and will be not be used\n",
      "The minimum supported version is 2.4.6\n",
      "\n",
      "  ver=ver, min_ver=_MIN_NUMEXPR_VERSION), UserWarning)\n",
      "/home/lansdell/.local/lib/python2.7/site-packages/matplotlib/__init__.py:913: UserWarning: axes.color_cycle is deprecated and replaced with axes.prop_cycle; please use the latter.\n",
      "  warnings.warn(self.msg_depr % (key, alt_key))\n"
     ]
    }
   ],
   "source": [
    "%pylab inline\n",
    "pylab.rcParams['figure.figsize'] = (6, 6)\n",
    "\n",
    "from lib.bandits import LinUCB, ThresholdBandit,GreedyBandit, ConsLinUCB, expected_regret\n",
    "from lib.generator import LinearGeneratorParams, LinearGenerator\n",
    "import numpy as np \n",
    "\n",
    "import matplotlib.pyplot as plt\n",
    "from scipy.stats import truncnorm\n",
    "import seaborn as sns\n",
    "sns.set_style('ticks')"
   ]
  },
  {
   "cell_type": "code",
   "execution_count": 3,
   "metadata": {
    "collapsed": true
   },
   "outputs": [],
   "source": [
    "#alg = 'greedy'\n",
    "#alg = 'linucb'\n",
    "#alg = 'threshold'\n",
    "#alg = 'thresholdcons'\n",
    "alg = 'conslinucb'\n",
    "\n",
    "M = 3    #number of runs\n",
    "N = 10000 #number of timesteps\n",
    "save = False\n",
    "max_alpha = 2\n",
    "max_beta = 2\n",
    "k = 4    #Number of arms\n",
    "d = 5   #Dimension of context (includes one dim for intercept term)\n",
    "intercept = True\n",
    "evaluate_every = 100\n",
    "\n",
    "if alg == 'greedy':\n",
    "\tBanditAlg = GreedyBandit\n",
    "elif alg == 'linucb':\n",
    "\tBanditAlg = LinUCB\n",
    "elif alg == 'threshold':\n",
    "\tBanditAlg = ThresholdBandit\n",
    "elif alg == 'thresholdcons':\n",
    "\tBanditAlg = ThresholdConsBandit\n",
    "elif alg == 'conslinucb':\n",
    "\tBanditAlg = ConsLinUCB\n",
    "else:\n",
    "\tprint \"Select a valid algorithm\""
   ]
  },
  {
   "cell_type": "markdown",
   "metadata": {},
   "source": [
    "## Run CLUCB "
   ]
  },
  {
   "cell_type": "code",
   "execution_count": 4,
   "metadata": {},
   "outputs": [
    {
     "name": "stdout",
     "output_type": "stream",
     "text": [
      "Running conslinucb algorithm\n"
     ]
    }
   ],
   "source": [
    "#Generate slopes and intercepts\n",
    "alphas = truncnorm.rvs(-max_alpha, max_alpha, scale = 1, size=(M,k,d-1))\n",
    "betas = truncnorm.rvs(-max_beta, max_beta, scale = 1, size=(M,k))+4\n",
    "\n",
    "baseline_alphas = truncnorm.rvs(-max_alpha, max_alpha, scale = 1, size=(M,1,d-1))\n",
    "baseline_betas = truncnorm.rvs(-max_beta, max_beta, scale = 1, size=(M,1))+2\n",
    "\n",
    "regret = np.zeros((M, N))\n",
    "expt_regret = np.zeros((M, N))\n",
    "arm_pulls = np.zeros((M, N, k+1))\n",
    "n_changes = np.zeros((M, N))\n",
    "update_pol = np.zeros((M, N))"
   ]
  },
  {
   "cell_type": "code",
   "execution_count": 5,
   "metadata": {},
   "outputs": [
    {
     "name": "stdout",
     "output_type": "stream",
     "text": [
      "Run: 1/3\n",
      "Run: 2/3\n",
      "Run: 3/3\n"
     ]
    }
   ],
   "source": [
    "print(\"Running %s algorithm\"%alg)\n",
    "for m in range(M):\n",
    "\tparams = LinearGeneratorParams(np.atleast_2d(alphas[m,:,:]), betas[m,:], d = d, k = k, intercept = intercept)\n",
    "\tgenerator = LinearGenerator(params)\n",
    "\tbandit = BanditAlg(generator, (np.squeeze(baseline_alphas[m,:]), baseline_betas[m,0]), alpha = 0.1)\n",
    "\tprint(\"Run: %d/%d\"%(m+1,M))\n",
    "\tfor i in range(N):\n",
    "\t\t(ctx, arm_idx, obs, r) = bandit.step()\n",
    "\t\tregret[m,i] = r\n",
    "\t\tif arm_idx >= 0:\n",
    "\t\t\tarm_pulls[m,i,arm_idx] = 1\n",
    "\t\telse:\n",
    "\t\t\tarm_pulls[m,i,k] = 1"
   ]
  },
  {
   "cell_type": "markdown",
   "metadata": {},
   "source": [
    "## LinUCB for comparison"
   ]
  },
  {
   "cell_type": "code",
   "execution_count": 7,
   "metadata": {
    "collapsed": true
   },
   "outputs": [],
   "source": [
    "BanditAlg = LinUCB    \n",
    "regret_linucb = np.zeros((M, N))\n",
    "arm_pulls_linucb = np.zeros((M, N, k+1))"
   ]
  },
  {
   "cell_type": "code",
   "execution_count": 8,
   "metadata": {},
   "outputs": [
    {
     "name": "stdout",
     "output_type": "stream",
     "text": [
      "Run: 1/3\n",
      "Run: 2/3\n",
      "Run: 3/3\n"
     ]
    }
   ],
   "source": [
    "for m in range(M):\n",
    "\tparams = LinearGeneratorParams(np.atleast_2d(alphas[m,:,:]), betas[m,:], d = d, k = k, intercept = intercept)\n",
    "\tgenerator = LinearGenerator(params)\n",
    "\tbandit = BanditAlg(generator)\n",
    "\tprint(\"Run: %d/%d\"%(m+1,M))\n",
    "\tfor i in range(N):\n",
    "\t\t(ctx, arm_idx, obs, r) = bandit.step()\n",
    "\t\tregret_linucb[m,i] = r\n",
    "\t\tif arm_idx >= 0:\n",
    "\t\t\tarm_pulls_linucb[m,i,arm_idx] = 1\n",
    "\t\telse:\n",
    "\t\t\tarm_pulls_linucb[m,i,k] = 1"
   ]
  },
  {
   "cell_type": "markdown",
   "metadata": {
    "collapsed": true
   },
   "source": [
    "## Comparison of the two methods"
   ]
  },
  {
   "cell_type": "markdown",
   "metadata": {},
   "source": [
    "Trade-off between convergence rate, risk, and confidence level"
   ]
  },
  {
   "cell_type": "code",
   "execution_count": 9,
   "metadata": {},
   "outputs": [
    {
     "data": {
      "image/png": "[encoded data removed]",
      "text/plain": [
       "<matplotlib.figure.Figure at 0x7fdcb84af750>"
      ]
     },
     "metadata": {},
     "output_type": "display_data"
    }
   ],
   "source": [
    "#Vary the confidence level, plot convergence rate, regret, risk\n",
    "sns.tsplot(np.cumsum(regret, axis = 1), color = 'red')\n",
    "sns.tsplot(np.cumsum(regret_linucb, axis = 1), color = 'blue')\n",
    "plt.xlabel('round')\n",
    "plt.ylabel('cumulative regret')\n",
    "plt.legend(['CLUCB', 'LinUCB'])\n",
    "sns.despine(trim = True)"
   ]
  },
  {
   "cell_type": "code",
   "execution_count": null,
   "metadata": {
    "collapsed": true
   },
   "outputs": [],
   "source": []
  }
 ],
 "metadata": {
  "kernelspec": {
   "display_name": "Python 2",
   "language": "python",
   "name": "python2"
  },
  "language_info": {
   "codemirror_mode": {
    "name": "ipython",
    "version": 2
   },
   "file_extension": ".py",
   "mimetype": "text/x-python",
   "name": "python",
   "nbconvert_exporter": "python",
   "pygments_lexer": "ipython2",
   "version": "2.7.12"
  }
 },
 "nbformat": 4,
 "nbformat_minor": 2
}
