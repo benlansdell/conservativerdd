{
 "cells": [
  {
   "cell_type": "markdown",
   "metadata": {},
   "source": [
    "### Test LinUCB, ThresholdBandit and GreedyBandit"
   ]
  },
  {
   "cell_type": "code",
   "execution_count": 1,
   "metadata": {},
   "outputs": [
    {
     "name": "stdout",
     "output_type": "stream",
     "text": [
      "/home/lansdell/projects/conservativerdd\n",
      "Populating the interactive namespace from numpy and matplotlib\n"
     ]
    },
    {
     "name": "stderr",
     "output_type": "stream",
     "text": [
      "/usr/local/lib/python2.7/dist-packages/pandas/core/computation/__init__.py:18: UserWarning: The installed version of numexpr 2.4.3 is not supported in pandas and will be not be used\n",
      "The minimum supported version is 2.4.6\n",
      "\n",
      "  ver=ver, min_ver=_MIN_NUMEXPR_VERSION), UserWarning)\n",
      "/home/lansdell/.local/lib/python2.7/site-packages/matplotlib/__init__.py:913: UserWarning: axes.color_cycle is deprecated and replaced with axes.prop_cycle; please use the latter.\n",
      "  warnings.warn(self.msg_depr % (key, alt_key))\n"
     ]
    }
   ],
   "source": [
    "%cd /home/lansdell/projects/conservativerdd\n",
    "%pylab inline\n",
    "pylab.rcParams['figure.figsize'] = (6, 6)\n",
    "\n",
    "from lib.bandits import LinUCB, ThresholdBandit,ThresholdConsBandit,GreedyBandit, ConsLinUCB, expected_regret, expected_regret_per_arm\n",
    "from lib.generator import LinearGeneratorParams, LinearGenerator\n",
    "import numpy as np \n",
    "\n",
    "import matplotlib.pyplot as plt\n",
    "from scipy.stats import truncnorm\n",
    "import seaborn as sns\n",
    "sns.set_style('ticks')"
   ]
  },
  {
   "cell_type": "code",
   "execution_count": 3,
   "metadata": {
    "collapsed": true
   },
   "outputs": [],
   "source": [
    "#alg = 'greedy'\n",
    "#alg = 'linucb'\n",
    "#alg = 'threshold'\n",
    "#alg = 'thresholdcons'\n",
    "alg = 'conslinucb'\n",
    "\n",
    "M = 3    #number of runs\n",
    "N = 10000 #number of timesteps\n",
    "save = False\n",
    "alpha = 0.1 #CLUCB parameter...\n",
    "max_alpha = 2\n",
    "max_beta = 2\n",
    "k = 4    #Number of arms\n",
    "d = 5   #Dimension of context (includes one dim for intercept term)\n",
    "intercept = True\n",
    "evaluate_every = 100\n",
    "\n",
    "if alg == 'greedy':\n",
    "\tBanditAlg = GreedyBandit\n",
    "elif alg == 'linucb':\n",
    "\tBanditAlg = LinUCB\n",
    "elif alg == 'threshold':\n",
    "\tBanditAlg = ThresholdBandit\n",
    "elif alg == 'thresholdcons':\n",
    "\tBanditAlg = ThresholdConsBandit\n",
    "elif alg == 'conslinucb':\n",
    "\tBanditAlg = ConsLinUCB\n",
    "else:\n",
    "\tprint(\"Select a valid algorithm\")"
   ]
  },
  {
   "cell_type": "markdown",
   "metadata": {},
   "source": [
    "## Run CLUCB "
   ]
  },
  {
   "cell_type": "code",
   "execution_count": 4,
   "metadata": {
    "collapsed": true
   },
   "outputs": [],
   "source": [
    "#Generate slopes and intercepts\n",
    "alphas = truncnorm.rvs(-max_alpha, max_alpha, scale = 1, size=(M,k,d-1))\n",
    "betas = truncnorm.rvs(-max_beta, max_beta, scale = 1, size=(M,k))\n",
    "\n",
    "#baseline_alphas = truncnorm.rvs(-max_alpha, max_alpha, scale = 1, size=(M,1,d-1))\n",
    "#baseline_betas = truncnorm.rvs(-max_beta, max_beta, scale = 1, size=(M,1))\n",
    "\n",
    "regret = np.zeros((M, N))\n",
    "expt_regret = np.zeros((M, N))\n",
    "arm_pulls = np.zeros((M, N, k+1))\n",
    "n_changes = np.zeros((M, N))\n",
    "update_pol = np.zeros((M, N))"
   ]
  },
  {
   "cell_type": "code",
   "execution_count": 5,
   "metadata": {},
   "outputs": [
    {
     "name": "stdout",
     "output_type": "stream",
     "text": [
      "Running conslinucb algorithm\n",
      "Run: 1/3\n",
      "Run: 2/3\n",
      "Run: 3/3\n"
     ]
    }
   ],
   "source": [
    "print(\"Running %s algorithm\"%alg)\n",
    "expt_rewards_clucb = np.zeros((M, N))\n",
    "expt_rewards_baseline_clucb = np.zeros((M, N))\n",
    "\n",
    "for m in range(M):\n",
    "    params = LinearGeneratorParams(np.atleast_2d(alphas[m,:,:]), betas[m,:], d = d, k = k, intercept = intercept)\n",
    "    generator = LinearGenerator(params)\n",
    "    means = expected_regret_per_arm(generator)\n",
    "    #Choose the baseline arm as the worst arm....\n",
    "    m_idx = np.argmin(means)\n",
    "    base_alpha = alphas[m,m_idx,:]\n",
    "    base_beta = betas[m,m_idx]\n",
    "    #bandit = BanditAlg(generator, (np.squeeze(baseline_alphas[m,:]), baseline_betas[m,0]), alpha = 0.1)\n",
    "    bandit = BanditAlg(generator, (base_alpha, base_beta), alpha = alpha)\n",
    "    print(\"Run: %d/%d\"%(m+1,M))\n",
    "    for i in range(N):\n",
    "        (ctx, arm_idx, obs, r) = bandit.step()\n",
    "        regret[m,i] = r\n",
    "        if arm_idx >= 0:\n",
    "            arm_pulls[m,i,arm_idx] = 1\n",
    "        else:\n",
    "            arm_pulls[m,i,k] = 1\n",
    "    expt_rewards_baseline[m,i] = np.dot(ctx[1:],base_alpha) + base_beta\n",
    "    expt_rewards[m,i] = np.dot(ctx[1:], alphas[m,arm_idx,:]) + betas[m,arm_idx]\n"
   ]
  },
  {
   "cell_type": "markdown",
   "metadata": {},
   "source": [
    "## LinUCB for comparison"
   ]
  },
  {
   "cell_type": "code",
   "execution_count": 6,
   "metadata": {
    "collapsed": true
   },
   "outputs": [],
   "source": [
    "BanditAlg = LinUCB    \n",
    "regret_linucb = np.zeros((M, N))\n",
    "arm_pulls_linucb = np.zeros((M, N, k+1))"
   ]
  },
  {
   "cell_type": "code",
   "execution_count": 7,
   "metadata": {},
   "outputs": [
    {
     "name": "stdout",
     "output_type": "stream",
     "text": [
      "Run: 1/3\n",
      "Run: 2/3\n",
      "Run: 3/3\n"
     ]
    }
   ],
   "source": [
    "for m in range(M):\n",
    "\tparams = LinearGeneratorParams(np.atleast_2d(alphas[m,:,:]), betas[m,:], d = d, k = k, intercept = intercept)\n",
    "\tgenerator = LinearGenerator(params)\n",
    "\tbandit = BanditAlg(generator)\n",
    "\tprint(\"Run: %d/%d\"%(m+1,M))\n",
    "\tfor i in range(N):\n",
    "\t\t(ctx, arm_idx, obs, r) = bandit.step()\n",
    "\t\tregret_linucb[m,i] = r\n",
    "\t\tif arm_idx >= 0:\n",
    "\t\t\tarm_pulls_linucb[m,i,arm_idx] = 1\n",
    "\t\telse:\n",
    "\t\t\tarm_pulls_linucb[m,i,k] = 1"
   ]
  },
  {
   "cell_type": "markdown",
   "metadata": {},
   "source": [
    "## Threshold cons for comparison"
   ]
  },
  {
   "cell_type": "code",
   "execution_count": 8,
   "metadata": {},
   "outputs": [],
   "source": [
    "BanditAlg = ThresholdConsBandit    \n",
    "regret_thrcons = np.zeros((M, N))\n",
    "arm_pulls_thrcons = np.zeros((M, N, k+1))"
   ]
  },
  {
   "cell_type": "code",
   "execution_count": 9,
   "metadata": {},
   "outputs": [
    {
     "name": "stdout",
     "output_type": "stream",
     "text": [
      "Run: 1/3\n",
      "Run: 2/3\n",
      "Run: 3/3\n"
     ]
    }
   ],
   "source": [
    "for m in range(M):\n",
    "\tparams = LinearGeneratorParams(np.atleast_2d(alphas[m,:,:]), betas[m,:], d = d, k = k, intercept = intercept)\n",
    "\tgenerator = LinearGenerator(params)\n",
    "\tbandit = BanditAlg(generator)\n",
    "\tprint(\"Run: %d/%d\"%(m+1,M))\n",
    "\tfor i in range(N):\n",
    "\t\t(ctx, arm_idx, obs, r) = bandit.step()\n",
    "\t\tregret_thrcons[m,i] = r\n",
    "\t\tif arm_idx >= 0:\n",
    "\t\t\tarm_pulls_linucb[m,i,arm_idx] = 1\n",
    "\t\telse:\n",
    "\t\t\tarm_pulls_linucb[m,i,k] = 1"
   ]
  },
  {
   "cell_type": "markdown",
   "metadata": {},
   "source": [
    "## Threshold greedy"
   ]
  },
  {
   "cell_type": "code",
   "execution_count": 10,
   "metadata": {
    "collapsed": true
   },
   "outputs": [],
   "source": [
    "BanditAlg = ThresholdBandit    \n",
    "regret_thrgre = np.zeros((M, N))\n",
    "arm_pulls_thrgre = np.zeros((M, N, k+1))"
   ]
  },
  {
   "cell_type": "code",
   "execution_count": 11,
   "metadata": {},
   "outputs": [
    {
     "name": "stdout",
     "output_type": "stream",
     "text": [
      "Run: 1/3\n",
      "Run: 2/3\n",
      "Run: 3/3\n"
     ]
    }
   ],
   "source": [
    "for m in range(M):\n",
    "\tparams = LinearGeneratorParams(np.atleast_2d(alphas[m,:,:]), betas[m,:], d = d, k = k, intercept = intercept)\n",
    "\tgenerator = LinearGenerator(params)\n",
    "\tbandit = BanditAlg(generator)\n",
    "\tprint(\"Run: %d/%d\"%(m+1,M))\n",
    "\tfor i in range(N):\n",
    "\t\t(ctx, arm_idx, obs, r) = bandit.step()\n",
    "\t\tregret_thrgre[m,i] = r\n",
    "\t\tif arm_idx >= 0:\n",
    "\t\t\tarm_pulls_linucb[m,i,arm_idx] = 1\n",
    "\t\telse:\n",
    "\t\t\tarm_pulls_linucb[m,i,k] = 1"
   ]
  },
  {
   "cell_type": "markdown",
   "metadata": {
    "collapsed": true
   },
   "source": [
    "## Comparison of the methods"
   ]
  },
  {
   "cell_type": "markdown",
   "metadata": {},
   "source": [
    "Trade-off between convergence rate, risk, and confidence level"
   ]
  },
  {
   "cell_type": "code",
   "execution_count": 13,
   "metadata": {},
   "outputs": [
    {
     "data": {
      "image/png": "[encoded data removed]",
      "text/plain": [
       "<matplotlib.figure.Figure at 0x7fcd485a3dd0>"
      ]
     },
     "metadata": {},
     "output_type": "display_data"
    }
   ],
   "source": [
    "#Vary the confidence level, plot convergence rate, regret, risk\n",
    "sns.tsplot(np.cumsum(regret, axis = 1), color = 'red')\n",
    "sns.tsplot(np.cumsum(regret_linucb, axis = 1), color = 'blue')\n",
    "sns.tsplot(np.cumsum(regret_thrgre, axis = 1), color = 'green')\n",
    "sns.tsplot(np.cumsum(regret_thrcons, axis = 1), color = 'black')\n",
    "plt.xlabel('round')\n",
    "plt.ylabel('cumulative regret')\n",
    "plt.legend(['CLUCB', 'LinUCB', 'Threshold greedy', 'Threshold cons'])\n",
    "sns.despine(trim = True)"
   ]
  },
  {
   "cell_type": "code",
   "execution_count": 8,
   "metadata": {},
   "outputs": [
    {
     "name": "stderr",
     "output_type": "stream",
     "text": [
      "/opt/anaconda/anaconda2/envs/py34/lib/python3.6/site-packages/ipykernel_launcher.py:2: RuntimeWarning: divide by zero encountered in true_divide\n",
      "  \n",
      "/opt/anaconda/anaconda2/envs/py34/lib/python3.6/site-packages/ipykernel_launcher.py:3: RuntimeWarning: divide by zero encountered in true_divide\n",
      "  This is separate from the ipykernel package so we can avoid doing imports until\n",
      "/opt/anaconda/anaconda2/envs/py34/lib/python3.6/site-packages/ipykernel_launcher.py:3: RuntimeWarning: invalid value encountered in true_divide\n",
      "  This is separate from the ipykernel package so we can avoid doing imports until\n"
     ]
    },
    {
     "data": {
      "image/png": "[encoded data removed]",
      "text/plain": [
       "<matplotlib.figure.Figure at 0x7ffb7576a4a8>"
      ]
     },
     "metadata": {
      "needs_background": "light"
     },
     "output_type": "display_data"
    }
   ],
   "source": [
    "#Vary the confidence level, plot convergence rate, regret, risk\n",
    "sns.tsplot(np.divide(np.cumsum(regret, axis = 1), np.arange(N)), color = 'red')\n",
    "sns.tsplot(np.divide(np.cumsum(regret_linucb, axis = 1),np.arange(N)), color = 'blue')\n",
    "plt.xlabel('round')\n",
    "plt.ylabel('per step regret')\n",
    "plt.legend(['CLUCB', 'LinUCB'])\n",
    "sns.despine(trim = True)"
   ]
  },
  {
   "cell_type": "markdown",
   "metadata": {
    "collapsed": true
   },
   "source": [
    "## Plot the violation of constraints........"
   ]
  },
  {
   "cell_type": "code",
   "execution_count": null,
   "metadata": {
    "collapsed": true
   },
   "outputs": [],
   "source": [
    "#cum_expt_rewards_rs = np.cumsum(expt_rewards_rs, axis = 1)\n",
    "#cum_expt_rewards_baseline_rs = np.cumsum(expt_rewards_baseline_rs, axis = 1)\n",
    "cum_expt_rewards_ucb = np.cumsum(expt_rewards_ucb, axis = 1)\n",
    "cum_expt_rewards_baseline_ucb = np.cumsum(expt_rewards_baseline_ucb, axis = 1)\n",
    "cum_expt_rewards_thr = np.cumsum(expt_rewards_thr, axis = 1)\n",
    "cum_expt_rewards_baseline_thr = np.cumsum(expt_rewards_baseline_thr, axis = 1)\n",
    "cum_expt_rewards_thrcons = np.cumsum(expt_rewards_thrcons, axis = 1)\n",
    "cum_expt_rewards_baseline_thrcons = np.cumsum(expt_rewards_baseline_thrcons, axis = 1)\n",
    "#cum_expt_rewards_gre = np.cumsum(expt_rewards_gre, axis = 1)\n",
    "#cum_expt_rewards_baseline_gre = np.cumsum(expt_rewards_baseline_gre, axis = 1)\n",
    "cum_expt_rewards_clucb = np.cumsum(expt_rewards_clucb, axis = 1)\n",
    "cum_expt_rewards_baseline_clucb = np.cumsum(expt_rewards_baseline_clucb, axis = 1)\n",
    "\n",
    "constraint_violation_clucb = np.mean((cum_expt_rewards_clucb.T - (1-alpha_clucb)*cum_expt_rewards_baseline_clucb.T)<0,0)\n",
    "#constraint_violation_gre = np.mean((cum_expt_rewards_gre.T - (1-alpha_clucb)*cum_expt_rewards_baseline_gre.T)<0,0)\n",
    "#constraint_violation_ucb = np.mean((cum_expt_rewards_ucb.T - (1-alpha_clucb)*cum_expt_rewards_baseline_ucb.T)<0,0)\n",
    "#constraint_violation_rs = np.mean((cum_expt_rewards_rs.T - (1-alpha_clucb)*cum_expt_rewards_baseline_rs.T)<0,0)\n",
    "constraint_violation_thr = np.mean((cum_expt_rewards_thr.T - (1-alpha_clucb)*cum_expt_rewards_baseline_thr.T)<0,0)\n",
    "constraint_violation_thrcons = np.mean((cum_expt_rewards_thrcons.T - (1-alpha_clucb)*cum_expt_rewards_baseline_thrcons.T)<0,0)\n",
    "\n",
    "all_method_constraints = 100*np.stack((constraint_violation_ucb,\n",
    "                                       constraint_violation_thr,\n",
    "                                       constraint_violation_thrcons,\n",
    "                                       constraint_violation_clucb))\n",
    "\n",
    "#all_method_constraints = 100*np.stack((constraint_violation_ucb,\n",
    "#                                       constraint_violation_gre,\n",
    "#                                       constraint_violation_thr,\n",
    "#                                       constraint_violation_thrcons,\n",
    "#                                       constraint_violation_rs,\n",
    "#                                       constraint_violation_clucb))\n",
    "\n",
    "#df_constraints = pd.DataFrame(data = all_method_constraints.T, columns = ['LinUCB', 'Greedy', 'RS-greedy', 'RS-conservative', 'RS-LinUCB', 'CLUCB'], index = range(M))\n",
    "df_constraints = pd.DataFrame(data = all_method_constraints.T, columns = ['LinUCB', 'RS-greedy', 'RS-conservative', 'CLUCB'], index = range(M))"
   ]
  }
 ],
 "metadata": {
  "kernelspec": {
   "display_name": "Python 2",
   "language": "python",
   "name": "python2"
  },
  "language_info": {
   "codemirror_mode": {
    "name": "ipython",
    "version": 2
   },
   "file_extension": ".py",
   "mimetype": "text/x-python",
   "name": "python",
   "nbconvert_exporter": "python",
   "pygments_lexer": "ipython2",
   "version": "2.7.12"
  }
 },
 "nbformat": 4,
 "nbformat_minor": 2
}
