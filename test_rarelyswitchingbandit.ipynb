{
 "cells": [
  {
   "cell_type": "markdown",
   "metadata": {},
   "source": [
    "### Test the rarely switching LinUCB bandit"
   ]
  },
  {
   "cell_type": "code",
   "execution_count": 1,
   "metadata": {},
   "outputs": [
    {
     "name": "stdout",
     "output_type": "stream",
     "text": [
      "Populating the interactive namespace from numpy and matplotlib\n"
     ]
    },
    {
     "name": "stderr",
     "output_type": "stream",
     "text": [
      "/usr/local/lib/python2.7/dist-packages/pandas/core/computation/__init__.py:18: UserWarning: The installed version of numexpr 2.4.3 is not supported in pandas and will be not be used\n",
      "The minimum supported version is 2.4.6\n",
      "\n",
      "  ver=ver, min_ver=_MIN_NUMEXPR_VERSION), UserWarning)\n",
      "/home/lansdell/.local/lib/python2.7/site-packages/matplotlib/__init__.py:913: UserWarning: axes.color_cycle is deprecated and replaced with axes.prop_cycle; please use the latter.\n",
      "  warnings.warn(self.msg_depr % (key, alt_key))\n"
     ]
    }
   ],
   "source": [
    "%pylab inline\n",
    "pylab.rcParams['figure.figsize'] = (6, 6)\n",
    "\n",
    "from lib.bandits import LinUCB, ThresholdBandit,GreedyBandit, ThresholdBaselineBandit, RarelySwitchingLinUCB, ConsLinUCB, expected_regret\n",
    "from lib.generator import LinearGeneratorParams, LinearGenerator\n",
    "import numpy as np \n",
    "\n",
    "import matplotlib.pyplot as plt\n",
    "from scipy.stats import truncnorm\n",
    "import seaborn as sns\n",
    "sns.set_style('ticks')"
   ]
  },
  {
   "cell_type": "code",
   "execution_count": 5,
   "metadata": {
    "collapsed": true
   },
   "outputs": [],
   "source": [
    "#alg = 'greedy'\n",
    "#alg = 'linucb'\n",
    "#alg = 'threshold'\n",
    "#alg = 'thresholdcons'\n",
    "#alg = 'conslinucb'\n",
    "#alg = 'thrbaseline'\n",
    "alg = 'rarelyswitching'\n",
    "\n",
    "M = 3    #number of runs\n",
    "N = 10000 #number of timesteps\n",
    "save = False\n",
    "max_alpha = 2\n",
    "max_beta = 2\n",
    "k = 4    #Number of arms\n",
    "d = 5   #Dimension of context (includes one dim for intercept term)\n",
    "intercept = True\n",
    "evaluate_every = 100\n",
    "\n",
    "if alg == 'greedy':\n",
    "\tBanditAlg = GreedyBandit\n",
    "elif alg == 'linucb':\n",
    "\tBanditAlg = LinUCB\n",
    "elif alg == 'threshold':\n",
    "\tBanditAlg = ThresholdBandit\n",
    "elif alg == 'thresholdcons':\n",
    "\tBanditAlg = ThresholdConsBandit\n",
    "elif alg == 'conslinucb':\n",
    "\tBanditAlg = ConsLinUCB\n",
    "elif alg == 'thrbaseline':\n",
    "\tBanditAlg = ThresholdBaselineBandit\n",
    "elif alg == 'rarelyswitching':\n",
    "\tBanditAlg = RarelySwitchingLinUCB\n",
    "else:\n",
    "\tprint \"Select a valid algorithm\""
   ]
  },
  {
   "cell_type": "markdown",
   "metadata": {},
   "source": [
    "## Run rarely switching bandit "
   ]
  },
  {
   "cell_type": "code",
   "execution_count": 6,
   "metadata": {
    "collapsed": true
   },
   "outputs": [],
   "source": [
    "#Generate slopes and intercepts\n",
    "alphas = truncnorm.rvs(-max_alpha, max_alpha, scale = 1, size=(M,k,d-1))\n",
    "betas = truncnorm.rvs(-max_beta, max_beta, scale = 1, size=(M,k))\n",
    "\n",
    "regret = np.zeros((M, N))\n",
    "expt_regret = np.zeros((M, N))\n",
    "arm_pulls = np.zeros((M, N, k+1))\n",
    "n_changes = np.zeros((M, N))\n",
    "update_pol = np.zeros((M, N))"
   ]
  },
  {
   "cell_type": "code",
   "execution_count": 8,
   "metadata": {},
   "outputs": [
    {
     "name": "stdout",
     "output_type": "stream",
     "text": [
      "Running rarelyswitching algorithm\n",
      "Run: 1/3\n",
      "Run: 2/3\n",
      "Run: 3/3\n"
     ]
    }
   ],
   "source": [
    "print(\"Running %s algorithm\"%alg)\n",
    "\n",
    "for m in range(M):\n",
    "    params = LinearGeneratorParams(np.atleast_2d(alphas[m,:,:]), betas[m,:], d = d, k = k, intercept = intercept)\n",
    "    generator = LinearGenerator(params)\n",
    "    bandit = BanditAlg(generator, delta = 1./N)\n",
    "    print(\"Run: %d/%d\"%(m+1,M))\n",
    "    for i in range(N):\n",
    "        (ctx, arm_idx, obs, r) = bandit.step()\n",
    "        #print(ctx, arm_idx)\n",
    "        regret[m,i] = r\n",
    "        if arm_idx >= 0:\n",
    "            arm_pulls[m,i,arm_idx] = 1\n",
    "        else:\n",
    "            arm_pulls[m,i,k] = 1"
   ]
  },
  {
   "cell_type": "markdown",
   "metadata": {},
   "source": [
    "## LinUCB for comparison"
   ]
  },
  {
   "cell_type": "code",
   "execution_count": 9,
   "metadata": {
    "collapsed": true
   },
   "outputs": [],
   "source": [
    "BanditAlg = LinUCB    \n",
    "regret_linucb = np.zeros((M, N))\n",
    "arm_pulls_linucb = np.zeros((M, N, k+1))"
   ]
  },
  {
   "cell_type": "code",
   "execution_count": 10,
   "metadata": {},
   "outputs": [
    {
     "name": "stdout",
     "output_type": "stream",
     "text": [
      "Run: 1/3\n",
      "Run: 2/3\n",
      "Run: 3/3\n"
     ]
    }
   ],
   "source": [
    "for m in range(M):\n",
    "    params = LinearGeneratorParams(np.atleast_2d(alphas[m,:,:]), betas[m,:], d = d, k = k, intercept = intercept)\n",
    "    generator = LinearGenerator(params)\n",
    "    bandit = BanditAlg(generator)\n",
    "    print(\"Run: %d/%d\"%(m+1,M))\n",
    "    for i in range(N):\n",
    "        (ctx, arm_idx, obs, r) = bandit.step()\n",
    "        #print(ctx, arm_idx)\n",
    "        regret_linucb[m,i] = r\n",
    "        if arm_idx >= 0:\n",
    "            arm_pulls_linucb[m,i,arm_idx] = 1\n",
    "        else:\n",
    "            arm_pulls_linucb[m,i,k] = 1"
   ]
  },
  {
   "cell_type": "markdown",
   "metadata": {},
   "source": [
    "## ThrGreedy for comparison"
   ]
  },
  {
   "cell_type": "code",
   "execution_count": 22,
   "metadata": {
    "collapsed": true
   },
   "outputs": [],
   "source": [
    "BanditAlg = ThresholdBandit    \n",
    "regret_thrgr = np.zeros((M, N))\n",
    "arm_pulls_thrgr = np.zeros((M, N, k+1))"
   ]
  },
  {
   "cell_type": "code",
   "execution_count": 23,
   "metadata": {},
   "outputs": [
    {
     "name": "stdout",
     "output_type": "stream",
     "text": [
      "Run: 1/3\n",
      "Run: 2/3\n",
      "Run: 3/3\n"
     ]
    }
   ],
   "source": [
    "for m in range(M):\n",
    "    params = LinearGeneratorParams(np.atleast_2d(alphas[m,:,:]), betas[m,:], d = d, k = k, intercept = intercept)\n",
    "    generator = LinearGenerator(params)\n",
    "    bandit = BanditAlg(generator)\n",
    "    print(\"Run: %d/%d\"%(m+1,M))\n",
    "    for i in range(N):\n",
    "        (ctx, arm_idx, obs, r) = bandit.step()\n",
    "        #print(ctx, arm_idx)\n",
    "        regret_thrgr[m,i] = r\n",
    "        if arm_idx >= 0:\n",
    "            arm_pulls_thrgr[m,i,arm_idx] = 1\n",
    "        else:\n",
    "            arm_pulls_thrgr[m,i,k] = 1"
   ]
  },
  {
   "cell_type": "markdown",
   "metadata": {
    "collapsed": true
   },
   "source": [
    "## Comparison of the two methods"
   ]
  },
  {
   "cell_type": "markdown",
   "metadata": {},
   "source": [
    "Trade-off between convergence rate, risk, and confidence level"
   ]
  },
  {
   "cell_type": "code",
   "execution_count": 25,
   "metadata": {},
   "outputs": [
    {
     "name": "stderr",
     "output_type": "stream",
     "text": [
      "/usr/local/lib/python2.7/dist-packages/ipykernel_launcher.py:3: RuntimeWarning: divide by zero encountered in log\n",
      "  This is separate from the ipykernel package so we can avoid doing imports until\n"
     ]
    },
    {
     "data": {
      "image/png": "[encoded data removed]",
      "text/plain": [
       "<matplotlib.figure.Figure at 0x7f32d8ff1310>"
      ]
     },
     "metadata": {},
     "output_type": "display_data"
    }
   ],
   "source": [
    "#Vary the confidence level, plot convergence rate, regret, risk\n",
    "#sns.tsplot(np.log(np.cumsum(regret, axis = 1)), color = 'red')\n",
    "sns.tsplot(np.log(np.cumsum(regret_thrgr, axis = 1)), color = 'blue')\n",
    "sns.tsplot(np.cumsum(regret, axis = 1), color = 'red')\n",
    "plt.xlabel('round')\n",
    "plt.ylabel('cumulative regret')\n",
    "plt.legend(['Thr greedy', 'RarelySwitchingLinUCB'])\n",
    "sns.despine(trim = True)"
   ]
  },
  {
   "cell_type": "code",
   "execution_count": 20,
   "metadata": {},
   "outputs": [
    {
     "data": {
      "image/png": "[encoded data removed]",
      "text/plain": [
       "<matplotlib.figure.Figure at 0x7f32d8e3b9d0>"
      ]
     },
     "metadata": {},
     "output_type": "display_data"
    }
   ],
   "source": [
    "sns.tsplot(np.cumsum(regret_linucb, axis = 1), color = 'blue')\n",
    "plt.xlabel('round')\n",
    "plt.ylabel('cumulative regret')\n",
    "plt.legend(['LinUCB'])\n",
    "sns.despine(trim = True)"
   ]
  },
  {
   "cell_type": "code",
   "execution_count": null,
   "metadata": {
    "collapsed": true
   },
   "outputs": [],
   "source": []
  }
 ],
 "metadata": {
  "kernelspec": {
   "display_name": "Python 2",
   "language": "python",
   "name": "python2"
  },
  "language_info": {
   "codemirror_mode": {
    "name": "ipython",
    "version": 2
   },
   "file_extension": ".py",
   "mimetype": "text/x-python",
   "name": "python",
   "nbconvert_exporter": "python",
   "pygments_lexer": "ipython2",
   "version": "2.7.12"
  }
 },
 "nbformat": 4,
 "nbformat_minor": 2
}
